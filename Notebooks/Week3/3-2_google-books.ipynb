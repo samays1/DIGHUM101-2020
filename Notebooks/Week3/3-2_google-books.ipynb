{
 "cells": [
  {
   "cell_type": "markdown",
   "metadata": {},
   "source": [
    "# Collecting Data from the Web - APIs\n",
    "\n",
    "We're going to first explore a simple web API - the Google Books API - to perform some searches for books and see what metadata we get in return. Although many APIs require a key in order to access the data, we can perform Google Books searches without one. The guide to the Google Books API, as well as a lot of other useful information, can be found [here](https://developers.google.com/books/).\n",
    "\n",
    "If you are interested in Reddit and Twitter data check out notebook 3-2_praw-tweepy.ipynb. You can also download Tweets from the Internet by Google searching \"download tweets\". \n",
    "\n",
    "First we'll import the [`requests`](http://docs.python-requests.org/en/master/) library. The `requests` library is necessary for most interaction with the internet in Python. We'll use it to make a `get` request to the API endpoint."
   ]
  },
  {
   "cell_type": "code",
   "execution_count": 1,
   "metadata": {},
   "outputs": [],
   "source": [
    "# !pip install requests\n",
    "import requests"
   ]
  },
  {
   "cell_type": "markdown",
   "metadata": {},
   "source": [
    "To call an API it to just build a unique URL. We always need a base URL, or endpoint, to which we can add the parameters specific to our request. Let's assign the base Google Books endpoint to a variable, we'll call it `books_url`. We know this URL from the documentation linked above."
   ]
  },
  {
   "cell_type": "code",
   "execution_count": 2,
   "metadata": {},
   "outputs": [],
   "source": [
    "books_url = 'https://www.googleapis.com/books/v1/volumes?'"
   ]
  },
  {
   "cell_type": "markdown",
   "metadata": {},
   "source": [
    "We can start off with a very simple search to see what the results look like. Then we'll move on to adding more filters and parameters. Let's assign our query to a variable `query`."
   ]
  },
  {
   "cell_type": "code",
   "execution_count": 3,
   "metadata": {},
   "outputs": [],
   "source": [
    "query = 'digital humanities'"
   ]
  },
  {
   "cell_type": "markdown",
   "metadata": {},
   "source": [
    "To incorporate this into our query we can make a dictionary called `parameters`. We'll pass these parameters to the `get` method. The `'q'` stands for 'query', and whatever value we assign to that is what we're searching for, just as if we typed it into the Google search bar."
   ]
  },
  {
   "cell_type": "code",
   "execution_count": 4,
   "metadata": {},
   "outputs": [],
   "source": [
    "parameters = {'q': query}"
   ]
  },
  {
   "cell_type": "markdown",
   "metadata": {},
   "source": [
    "We'll pass two arguments to the `get` method of `requests` library: the URL and the parameters we want. It returns a response object."
   ]
  },
  {
   "cell_type": "code",
   "execution_count": 5,
   "metadata": {},
   "outputs": [],
   "source": [
    "r = requests.get(books_url, params = parameters)"
   ]
  },
  {
   "cell_type": "markdown",
   "metadata": {},
   "source": [
    "Printing the `url` property, we can see that this function converted the URL into the proper format to include our search terms."
   ]
  },
  {
   "cell_type": "code",
   "execution_count": 6,
   "metadata": {},
   "outputs": [
    {
     "name": "stdout",
     "output_type": "stream",
     "text": [
      "https://www.googleapis.com/books/v1/volumes?q=digital+humanities\n"
     ]
    }
   ],
   "source": [
    "print(r.url)"
   ]
  },
  {
   "cell_type": "markdown",
   "metadata": {},
   "source": [
    "To see our results, we simply use the request object's `json` method, which we can then navigate as a Python dictionary. Take a minute or two to navigate through the results in order to see what's there. "
   ]
  },
  {
   "cell_type": "code",
   "execution_count": 10,
   "metadata": {
    "scrolled": false
   },
   "outputs": [
    {
     "name": "stdout",
     "output_type": "stream",
     "text": [
      "<class 'dict'>\n"
     ]
    }
   ],
   "source": [
    "results = r.json()\n",
    "results\n",
    "print(type(results))"
   ]
  },
  {
   "cell_type": "markdown",
   "metadata": {},
   "source": [
    "You probably figured out that the books are found under the `'items'` key, and the most important information for each one is under the `'volumeInfo'` key. Let's take a look at the first result."
   ]
  },
  {
   "cell_type": "code",
   "execution_count": 8,
   "metadata": {},
   "outputs": [
    {
     "data": {
      "text/plain": [
       "{'title': 'Digital_Humanities',\n",
       " 'authors': ['Anne Burdick',\n",
       "  'Johanna Drucker',\n",
       "  'Peter Lunenfeld',\n",
       "  'Todd Presner',\n",
       "  'Jeffrey Schnapp'],\n",
       " 'publisher': 'MIT Press',\n",
       " 'publishedDate': '2012-11-16',\n",
       " 'description': 'Digital_Humanities is a compact, game-changing report on the state of contemporary knowledge production. Answering the question \"What is digital humanities?,\" it provides an in-depth examination of an emerging field. This collaboratively authored and visually compelling volume explores methodologies and techniques unfamiliar to traditional modes of humanistic inquiry -- including geospatial analysis, data mining, corpus linguistics, visualization, and simulation -- to show their relevance for contemporary culture. Written by five leading practitioner-theorists whose varied backgrounds embody the intellectual and creative diversity of the field, Digital_Humanities is a vision statement for the future, an invitation to engage, and a critical tool for understanding the shape of new scholarship.',\n",
       " 'industryIdentifiers': [{'type': 'ISBN_13', 'identifier': '9780262312110'},\n",
       "  {'type': 'ISBN_10', 'identifier': '0262312115'}],\n",
       " 'readingModes': {'text': False, 'image': True},\n",
       " 'pageCount': 152,\n",
       " 'printType': 'BOOK',\n",
       " 'categories': ['Social Science'],\n",
       " 'maturityRating': 'NOT_MATURE',\n",
       " 'allowAnonLogging': False,\n",
       " 'contentVersion': '0.1.0.0.preview.1',\n",
       " 'panelizationSummary': {'containsEpubBubbles': False,\n",
       "  'containsImageBubbles': False},\n",
       " 'imageLinks': {'smallThumbnail': 'http://books.google.com/books/content?id=i-LxCwAAQBAJ&printsec=frontcover&img=1&zoom=5&edge=curl&source=gbs_api',\n",
       "  'thumbnail': 'http://books.google.com/books/content?id=i-LxCwAAQBAJ&printsec=frontcover&img=1&zoom=1&edge=curl&source=gbs_api'},\n",
       " 'language': 'en',\n",
       " 'previewLink': 'http://books.google.com/books?id=i-LxCwAAQBAJ&printsec=frontcover&dq=digital+humanities&hl=&cd=1&source=gbs_api',\n",
       " 'infoLink': 'https://play.google.com/store/books/details?id=i-LxCwAAQBAJ&source=gbs_api',\n",
       " 'canonicalVolumeLink': 'https://play.google.com/store/books/details?id=i-LxCwAAQBAJ'}"
      ]
     },
     "execution_count": 8,
     "metadata": {},
     "output_type": "execute_result"
    }
   ],
   "source": [
    "results['items'][0]['volumeInfo']"
   ]
  },
  {
   "cell_type": "markdown",
   "metadata": {},
   "source": [
    "There's a lot of information in the results, but we probably don't want all of it. Suppose that for each volume in the results, we only want to extract 1) the title, 2) the author(s), 3) the publication date, and 4) the description. Below is a function named `parse_results` that takes the `results` variable as an argument and returns a list of dictionaries. Each dictionary within the list corresponds to a book, and has an `author` key, a `title` key, a `publication_date` key, and a `description` key."
   ]
  },
  {
   "cell_type": "code",
   "execution_count": 11,
   "metadata": {},
   "outputs": [],
   "source": [
    "def parse_results(results):\n",
    "\n",
    "    results_list = []\n",
    "\n",
    "    for book in results['items']:\n",
    "\n",
    "        title = book['volumeInfo']['title']\n",
    "\n",
    "        # some books don't have authors, dates, or a description\n",
    "        try:\n",
    "            authors = ','.join(book['volumeInfo']['authors'])\n",
    "        except:\n",
    "            authors = 'NA'\n",
    "        \n",
    "        try:\n",
    "            published_date = book['volumeInfo']['publishedDate']\n",
    "        except:\n",
    "            published_date = 'NA'\n",
    "\n",
    "        try:\n",
    "            description = book['volumeInfo']['description']\n",
    "        except:\n",
    "            description = \"NA\"\n",
    "\n",
    "        results_dict = {'title': title,\n",
    "                        'authors': authors,\n",
    "                        'description': description,\n",
    "                        'published_date': published_date}\n",
    "        \n",
    "        results_list.append(results_dict)\n",
    "        \n",
    "    return(results_list)"
   ]
  },
  {
   "cell_type": "code",
   "execution_count": 12,
   "metadata": {},
   "outputs": [
    {
     "name": "stdout",
     "output_type": "stream",
     "text": [
      "[{'title': 'Digital_Humanities', 'authors': 'Anne Burdick,Johanna Drucker,Peter Lunenfeld,Todd Presner,Jeffrey Schnapp', 'description': 'Digital_Humanities is a compact, game-changing report on the state of contemporary knowledge production. Answering the question \"What is digital humanities?,\" it provides an in-depth examination of an emerging field. This collaboratively authored and visually compelling volume explores methodologies and techniques unfamiliar to traditional modes of humanistic inquiry -- including geospatial analysis, data mining, corpus linguistics, visualization, and simulation -- to show their relevance for contemporary culture. Written by five leading practitioner-theorists whose varied backgrounds embody the intellectual and creative diversity of the field, Digital_Humanities is a vision statement for the future, an invitation to engage, and a critical tool for understanding the shape of new scholarship.', 'published_date': '2012-11-16'}, {'title': 'Debates in the Digital Humanities 2016', 'authors': 'Matthew K. Gold,Lauren F. Klein', 'description': 'Pairing full-length scholarly essays with shorter pieces drawn from scholarly blogs and conference presentations, as well as commissioned interviews and position statements, Debates in the Digital Humanities 2016 reveals a dynamic view of a field in negotiation with its identity, methods, and reach. Pieces in the book explore how DH can and must change in response to social justice movements and events like #Ferguson; how DH alters and is altered by community college classrooms; and how scholars applying DH approaches to feminist studies, queer studies, and black studies might reframe the commitments of DH analysts. Numerous contributors examine the movement of interdisciplinary DH work into areas such as history, art history, and archaeology, and a special forum on large-scale text mining brings together position statements on a fast-growing area of DH research. In the multivalent aspects of its arguments, progressing across a range of platforms and environments, Debates in the Digital Humanities 2016 offers a vision of DH as an expanded field—new possibilities, differently structured. Published simultaneously in print, e-book, and interactive webtext formats, each DH annual will be a book-length publication highlighting the particular debates that have shaped the discipline in a given year. By identifying key issues as they unfold, and by providing a hybrid model of open-access publication, these volumes and the Debates in the Digital Humanities series will articulate the present contours of the field and help forge its future. Contributors: Moya Bailey, Northeastern U; Fiona Barnett; Matthew Battles, Harvard U; Jeffrey M. Binder; Zach Blas, U of London; Cameron Blevins, Rutgers U; Sheila A. Brennan, George Mason U; Timothy Burke, Swarthmore College; Rachel Sagner Buurma, Swarthmore College; Micha Cárdenas, U of Washington–Bothell; Wendy Hui Kyong Chun, Brown U; Tanya E. Clement, U of Texas–Austin; Anne Cong-Huyen, Whittier College; Ryan Cordell, Northeastern U; Tressie McMillan Cottom, Virginia Commonwealth U; Amy E. Earhart, Texas A&M U; Domenico Fiormonte, U of Roma Tre; Paul Fyfe, North Carolina State U; Jacob Gaboury, Stony Brook U; Kim Gallon, Purdue U; Alex Gil, Columbia U; Brian Greenspan, Carleton U; Richard Grusin, U of Wisconsin, Milwaukee; Michael Hancher, U of Minnesota; Molly O’Hagan Hardy; David L. Hoover, New York U; Wendy F. Hsu; Patrick Jagoda, U of Chicago; Jessica Marie Johnson, Michigan State U; Steven E. Jones, Loyola U; Margaret Linley, Simon Fraser U; Alan Liu, U of California, Santa Barbara; Elizabeth Losh, U of California, San Diego; Alexis Lothian, U of Maryland; Michael Maizels, Wellesley College; Mark C. Marino, U of Southern California; Anne B. McGrail, Lane Community College; Bethany Nowviskie, U of Virginia; Julianne Nyhan, U College London; Amanda Phillips, U of California, Davis; Miriam Posner, U of California, Los Angeles; Rita Raley, U of California, Santa Barbara; Stephen Ramsay, U of Nebraska–Lincoln; Margaret Rhee, U of Oregon; Lisa Marie Rhody, Graduate Center, CUNY; Roopika Risam, Salem State U; Stephen Robertson, George Mason U; Mark Sample, Davidson College; Jentery Sayers, U of Victoria; Benjamin M. Schmidt, Northeastern U; Scott Selisker, U of Arizona; Jonathan Senchyne, U of Wisconsin, Madison; Andrew Stauffer, U of Virginia; Joanna Swafford, SUNY New Paltz; Toniesha L. Taylor, Prairie View A&M U; Dennis Tenen; Melissa Terras, U College London; Anna Tione; Ted Underwood, U of Illinois, Urbana–Champaign; Ethan Watrall, Michigan State U; Jacqueline Wernimont, Arizona State U; Laura Wexler, Yale U; Hong-An Wu, U of Illinois, Urbana–Champaign.', 'published_date': '2016-05-18'}, {'title': 'The Digital Humanities', 'authors': 'Eileen Gardiner,Ronald G. Musto', 'description': 'This is an introduction and practical guide to how humanists use the digital to research, organize, analyze, and publish findings.', 'published_date': '2015-06-30'}, {'title': 'Understanding Digital Humanities', 'authors': 'D. Berry', 'description': 'Confronting the digital revolution in academia, this book examines the application of new computational techniques and visualisation technologies in the Arts & Humanities. Uniting differing perspectives, leading and emerging scholars discuss the theoretical and practical challenges that computation raises for these disciplines.', 'published_date': '2012-02-07'}, {'title': 'Research Methods for the Digital Humanities', 'authors': 'lewis levenberg,Tai Neilson,David Rheams', 'description': 'This volume introduces the reader to the wide range of methods that digital humanities employ, and offers a practical guide to the study, interpretation, and presentation of cultural material and practices. In this instance, the editors consider digital humanities to include both the use of computing to understand cultural material in new ways, and the application of theories and methods from the humanities to interpret new technologies. Each chapter provides a step-by-step guide to cutting-edge methodologies so that students can make informed decisions about the methods they use, consider ethical practices, follow practical procedures, and present their work effectively. Readers will develop practical and reflexive understandings of the software and digital devices that they study and use for research, and the book will help new researchers collaborate and contribute to their scholarly communities, and to public discourse. As contemporary humanities work becomes increasingly interdisciplinary, and increasingly permeated by and with digital technologies, this volume helps new researchers navigate an evolving academic environment. Humanities and social sciences students will find this textbook an invaluable resource for assessing and creating digital projects.', 'published_date': '2018'}, {'title': 'Digital Humanities and Buddhism', 'authors': 'Daniel Veidlinger', 'description': 'IDH Religion provides a series of short introductions to specific areas of study at the intersections of digital humanities and religion, offering an overview of current methodologies, techniques, tools, and projects as well as defining challenges and opportunities for further research. This volume explores DH and Buddhism in four sections: Theory and Method; Digital Conservation, Preservation and Archiving; Digital Analysis; Digital Resources. It covers themes such as language processing, digital libraries, online lexicography, and ethnographic methods.', 'published_date': '2019-06-04'}, {'title': 'Doing Digital Humanities', 'authors': 'Constance Crompton,Richard J Lane,Ray Siemens', 'description': 'Digital Humanities is rapidly evolving as a significant approach to/method of teaching, learning and research across the humanities. This is a first-stop book for people interested in getting to grips with digital humanities whether as a student or a professor. The book offers a practical guide to the area as well as offering reflection on the main objectives and processes, including: Accessible introductions of the basics of Digital Humanities through to more complex ideas A wide range of topics from feminist Digital Humanities, digital journal publishing, gaming, text encoding, project management and pedagogy Contextualised case studies Resources for starting Digital Humanities such as links, training materials and exercises Doing Digital Humanities looks at the practicalities of how digital research and creation can enhance both learning and research and offers an approachable way into this complex, yet essential topic.', 'published_date': '2016-09-13'}, {'title': 'The Emergence of the Digital Humanities', 'authors': 'Steven E. Jones', 'description': 'The past decade has seen a profound shift in our collective understanding of the digital network. What was once understood to be a transcendent virtual reality is now experienced as a ubiquitous grid of data that we move through and interact with every day, raising new questions about the social, locative, embodied, and object-oriented nature of our experience in the networked world. In The Emergence of the Digital Humanities, Steven E. Jones examines this shift in our relationship to digital technology and the ways that it has affected humanities scholarship and the academy more broadly. Based on the premise that the network is now everywhere rather than merely \"out there,\" Jones links together seemingly disparate cultural events—the essential features of popular social media, the rise of motion-control gaming and mobile platforms, the controversy over the \"gamification\" of everyday life, the spatial turn, fabrication and 3D printing, and electronic publishing—and argues that cultural responses to changes in technology provide an essential context for understanding the emergence of the digital humanities as a new field of study in this millennium.', 'published_date': '2013-08-15'}, {'title': 'Defining Digital Humanities', 'authors': 'Melissa Terras,Julianne Nyhan,Edward Vanhoutte', 'description': 'Digital Humanities is becoming an increasingly popular focus of academic endeavour. There are now hundreds of Digital Humanities centres worldwide and the subject is taught at both postgraduate and undergraduate level. Yet the term ’Digital Humanities’ is much debated. This reader brings together, for the first time, in one core volume the essential readings that have emerged in Digital Humanities. We provide a historical overview of how the term ’Humanities Computing’ developed into the term ’Digital Humanities’, and highlight core readings which explore the meaning, scope, and implementation of the field. To contextualize and frame each included reading, the editors and authors provide a commentary on the original piece. There is also an annotated bibliography of other material not included in the text to provide an essential list of reading in the discipline. This text will be required reading for scholars and students who want to discover the history of Digital Humanities through its core writings, and for those who wish to understand the many possibilities that exist when trying to define Digital Humanities.', 'published_date': '2016-05-13'}, {'title': 'Digital Humanities', 'authors': 'David M. Berry,Anders Fagerjord', 'description': 'As the twenty-first century unfolds, computers challenge the way in which we think about culture, society and what it is to be human: areas traditionally explored by the humanities. In a world of automation, Big Data, algorithms, Google searches, digital archives, real-time streams and social networks, our use of culture has been changing dramatically. The digital humanities give us powerful theories, methods and tools for exploring new ways of being in a digital age. Berry and Fagerjord provide a compelling guide, exploring the history, intellectual work, key arguments and ideas of this emerging discipline. They also offer an important critique, suggesting ways in which the humanities can be enriched through computing, but also how cultural critique can transform the digital humanities. Digital Humanities will be an essential book for students and researchers in this new field but also related areas, such as media and communications, digital media, sociology, informatics, and the humanities more broadly.', 'published_date': '2017-05-30'}]\n"
     ]
    }
   ],
   "source": [
    "results = parse_results(results)\n",
    "print(results)"
   ]
  },
  {
   "cell_type": "markdown",
   "metadata": {},
   "source": [
    "Now let's explore the API using more parameters. You may have noticed that our query only gave us 10 books, but there are probably more than 10 books written about digital humanities. To adjust our search, we need to add in the `maxResults` parameter and the `startIndex` parameter. We can do that by adding these as keys to the `parameters` dictionary, and then run our request again. To read about these parameters, see the [documentation](https://developers.google.com/books/docs/v1/using#api_params)."
   ]
  },
  {
   "cell_type": "code",
   "execution_count": 13,
   "metadata": {},
   "outputs": [
    {
     "name": "stdout",
     "output_type": "stream",
     "text": [
      "https://www.googleapis.com/books/v1/volumes?q=digital+humanities&startIndex=0&maxResults=10\n",
      "\n"
     ]
    },
    {
     "data": {
      "text/plain": [
       "[{'title': 'Digital_Humanities',\n",
       "  'authors': 'Anne Burdick,Johanna Drucker,Peter Lunenfeld,Todd Presner,Jeffrey Schnapp',\n",
       "  'description': 'Digital_Humanities is a compact, game-changing report on the state of contemporary knowledge production. Answering the question \"What is digital humanities?,\" it provides an in-depth examination of an emerging field. This collaboratively authored and visually compelling volume explores methodologies and techniques unfamiliar to traditional modes of humanistic inquiry -- including geospatial analysis, data mining, corpus linguistics, visualization, and simulation -- to show their relevance for contemporary culture. Written by five leading practitioner-theorists whose varied backgrounds embody the intellectual and creative diversity of the field, Digital_Humanities is a vision statement for the future, an invitation to engage, and a critical tool for understanding the shape of new scholarship.',\n",
       "  'published_date': '2012-11-16'},\n",
       " {'title': 'Debates in the Digital Humanities 2016',\n",
       "  'authors': 'Matthew K. Gold,Lauren F. Klein',\n",
       "  'description': 'Pairing full-length scholarly essays with shorter pieces drawn from scholarly blogs and conference presentations, as well as commissioned interviews and position statements, Debates in the Digital Humanities 2016 reveals a dynamic view of a field in negotiation with its identity, methods, and reach. Pieces in the book explore how DH can and must change in response to social justice movements and events like #Ferguson; how DH alters and is altered by community college classrooms; and how scholars applying DH approaches to feminist studies, queer studies, and black studies might reframe the commitments of DH analysts. Numerous contributors examine the movement of interdisciplinary DH work into areas such as history, art history, and archaeology, and a special forum on large-scale text mining brings together position statements on a fast-growing area of DH research. In the multivalent aspects of its arguments, progressing across a range of platforms and environments, Debates in the Digital Humanities 2016 offers a vision of DH as an expanded field—new possibilities, differently structured. Published simultaneously in print, e-book, and interactive webtext formats, each DH annual will be a book-length publication highlighting the particular debates that have shaped the discipline in a given year. By identifying key issues as they unfold, and by providing a hybrid model of open-access publication, these volumes and the Debates in the Digital Humanities series will articulate the present contours of the field and help forge its future. Contributors: Moya Bailey, Northeastern U; Fiona Barnett; Matthew Battles, Harvard U; Jeffrey M. Binder; Zach Blas, U of London; Cameron Blevins, Rutgers U; Sheila A. Brennan, George Mason U; Timothy Burke, Swarthmore College; Rachel Sagner Buurma, Swarthmore College; Micha Cárdenas, U of Washington–Bothell; Wendy Hui Kyong Chun, Brown U; Tanya E. Clement, U of Texas–Austin; Anne Cong-Huyen, Whittier College; Ryan Cordell, Northeastern U; Tressie McMillan Cottom, Virginia Commonwealth U; Amy E. Earhart, Texas A&M U; Domenico Fiormonte, U of Roma Tre; Paul Fyfe, North Carolina State U; Jacob Gaboury, Stony Brook U; Kim Gallon, Purdue U; Alex Gil, Columbia U; Brian Greenspan, Carleton U; Richard Grusin, U of Wisconsin, Milwaukee; Michael Hancher, U of Minnesota; Molly O’Hagan Hardy; David L. Hoover, New York U; Wendy F. Hsu; Patrick Jagoda, U of Chicago; Jessica Marie Johnson, Michigan State U; Steven E. Jones, Loyola U; Margaret Linley, Simon Fraser U; Alan Liu, U of California, Santa Barbara; Elizabeth Losh, U of California, San Diego; Alexis Lothian, U of Maryland; Michael Maizels, Wellesley College; Mark C. Marino, U of Southern California; Anne B. McGrail, Lane Community College; Bethany Nowviskie, U of Virginia; Julianne Nyhan, U College London; Amanda Phillips, U of California, Davis; Miriam Posner, U of California, Los Angeles; Rita Raley, U of California, Santa Barbara; Stephen Ramsay, U of Nebraska–Lincoln; Margaret Rhee, U of Oregon; Lisa Marie Rhody, Graduate Center, CUNY; Roopika Risam, Salem State U; Stephen Robertson, George Mason U; Mark Sample, Davidson College; Jentery Sayers, U of Victoria; Benjamin M. Schmidt, Northeastern U; Scott Selisker, U of Arizona; Jonathan Senchyne, U of Wisconsin, Madison; Andrew Stauffer, U of Virginia; Joanna Swafford, SUNY New Paltz; Toniesha L. Taylor, Prairie View A&M U; Dennis Tenen; Melissa Terras, U College London; Anna Tione; Ted Underwood, U of Illinois, Urbana–Champaign; Ethan Watrall, Michigan State U; Jacqueline Wernimont, Arizona State U; Laura Wexler, Yale U; Hong-An Wu, U of Illinois, Urbana–Champaign.',\n",
       "  'published_date': '2016-05-18'},\n",
       " {'title': 'The Digital Humanities',\n",
       "  'authors': 'Eileen Gardiner,Ronald G. Musto',\n",
       "  'description': 'This is an introduction and practical guide to how humanists use the digital to research, organize, analyze, and publish findings.',\n",
       "  'published_date': '2015-06-30'},\n",
       " {'title': 'Understanding Digital Humanities',\n",
       "  'authors': 'D. Berry',\n",
       "  'description': 'Confronting the digital revolution in academia, this book examines the application of new computational techniques and visualisation technologies in the Arts & Humanities. Uniting differing perspectives, leading and emerging scholars discuss the theoretical and practical challenges that computation raises for these disciplines.',\n",
       "  'published_date': '2012-02-07'},\n",
       " {'title': 'Research Methods for the Digital Humanities',\n",
       "  'authors': 'lewis levenberg,Tai Neilson,David Rheams',\n",
       "  'description': 'This volume introduces the reader to the wide range of methods that digital humanities employ, and offers a practical guide to the study, interpretation, and presentation of cultural material and practices. In this instance, the editors consider digital humanities to include both the use of computing to understand cultural material in new ways, and the application of theories and methods from the humanities to interpret new technologies. Each chapter provides a step-by-step guide to cutting-edge methodologies so that students can make informed decisions about the methods they use, consider ethical practices, follow practical procedures, and present their work effectively. Readers will develop practical and reflexive understandings of the software and digital devices that they study and use for research, and the book will help new researchers collaborate and contribute to their scholarly communities, and to public discourse. As contemporary humanities work becomes increasingly interdisciplinary, and increasingly permeated by and with digital technologies, this volume helps new researchers navigate an evolving academic environment. Humanities and social sciences students will find this textbook an invaluable resource for assessing and creating digital projects.',\n",
       "  'published_date': '2018'},\n",
       " {'title': 'Digital Humanities and Buddhism',\n",
       "  'authors': 'Daniel Veidlinger',\n",
       "  'description': 'IDH Religion provides a series of short introductions to specific areas of study at the intersections of digital humanities and religion, offering an overview of current methodologies, techniques, tools, and projects as well as defining challenges and opportunities for further research. This volume explores DH and Buddhism in four sections: Theory and Method; Digital Conservation, Preservation and Archiving; Digital Analysis; Digital Resources. It covers themes such as language processing, digital libraries, online lexicography, and ethnographic methods.',\n",
       "  'published_date': '2019-06-04'},\n",
       " {'title': 'Doing Digital Humanities',\n",
       "  'authors': 'Constance Crompton,Richard J Lane,Ray Siemens',\n",
       "  'description': 'Digital Humanities is rapidly evolving as a significant approach to/method of teaching, learning and research across the humanities. This is a first-stop book for people interested in getting to grips with digital humanities whether as a student or a professor. The book offers a practical guide to the area as well as offering reflection on the main objectives and processes, including: Accessible introductions of the basics of Digital Humanities through to more complex ideas A wide range of topics from feminist Digital Humanities, digital journal publishing, gaming, text encoding, project management and pedagogy Contextualised case studies Resources for starting Digital Humanities such as links, training materials and exercises Doing Digital Humanities looks at the practicalities of how digital research and creation can enhance both learning and research and offers an approachable way into this complex, yet essential topic.',\n",
       "  'published_date': '2016-09-13'},\n",
       " {'title': 'The Emergence of the Digital Humanities',\n",
       "  'authors': 'Steven E. Jones',\n",
       "  'description': 'The past decade has seen a profound shift in our collective understanding of the digital network. What was once understood to be a transcendent virtual reality is now experienced as a ubiquitous grid of data that we move through and interact with every day, raising new questions about the social, locative, embodied, and object-oriented nature of our experience in the networked world. In The Emergence of the Digital Humanities, Steven E. Jones examines this shift in our relationship to digital technology and the ways that it has affected humanities scholarship and the academy more broadly. Based on the premise that the network is now everywhere rather than merely \"out there,\" Jones links together seemingly disparate cultural events—the essential features of popular social media, the rise of motion-control gaming and mobile platforms, the controversy over the \"gamification\" of everyday life, the spatial turn, fabrication and 3D printing, and electronic publishing—and argues that cultural responses to changes in technology provide an essential context for understanding the emergence of the digital humanities as a new field of study in this millennium.',\n",
       "  'published_date': '2013-08-15'},\n",
       " {'title': 'Defining Digital Humanities',\n",
       "  'authors': 'Melissa Terras,Julianne Nyhan,Edward Vanhoutte',\n",
       "  'description': 'Digital Humanities is becoming an increasingly popular focus of academic endeavour. There are now hundreds of Digital Humanities centres worldwide and the subject is taught at both postgraduate and undergraduate level. Yet the term ’Digital Humanities’ is much debated. This reader brings together, for the first time, in one core volume the essential readings that have emerged in Digital Humanities. We provide a historical overview of how the term ’Humanities Computing’ developed into the term ’Digital Humanities’, and highlight core readings which explore the meaning, scope, and implementation of the field. To contextualize and frame each included reading, the editors and authors provide a commentary on the original piece. There is also an annotated bibliography of other material not included in the text to provide an essential list of reading in the discipline. This text will be required reading for scholars and students who want to discover the history of Digital Humanities through its core writings, and for those who wish to understand the many possibilities that exist when trying to define Digital Humanities.',\n",
       "  'published_date': '2016-05-13'},\n",
       " {'title': 'Digital Humanities',\n",
       "  'authors': 'David M. Berry,Anders Fagerjord',\n",
       "  'description': 'As the twenty-first century unfolds, computers challenge the way in which we think about culture, society and what it is to be human: areas traditionally explored by the humanities. In a world of automation, Big Data, algorithms, Google searches, digital archives, real-time streams and social networks, our use of culture has been changing dramatically. The digital humanities give us powerful theories, methods and tools for exploring new ways of being in a digital age. Berry and Fagerjord provide a compelling guide, exploring the history, intellectual work, key arguments and ideas of this emerging discipline. They also offer an important critique, suggesting ways in which the humanities can be enriched through computing, but also how cultural critique can transform the digital humanities. Digital Humanities will be an essential book for students and researchers in this new field but also related areas, such as media and communications, digital media, sociology, informatics, and the humanities more broadly.',\n",
       "  'published_date': '2017-05-30'}]"
      ]
     },
     "execution_count": 13,
     "metadata": {},
     "output_type": "execute_result"
    }
   ],
   "source": [
    "parameters = {'q': query,\n",
    "              'startIndex': 0,\n",
    "              'maxResults': 10}\n",
    "\n",
    "r = requests.get(books_url, params = parameters)\n",
    "\n",
    "print(r.url)\n",
    "\n",
    "results = r.json()\n",
    "\n",
    "print()\n",
    "\n",
    "parse_results(results)"
   ]
  },
  {
   "cell_type": "markdown",
   "metadata": {},
   "source": [
    "Now, we can write a for loop to collect the first 100 results into `all_results`. But make sure you use `time.sleep` at the end of each loop! Python is so fast that if you write a for loop without pausing between calls you can overload someone's server, or get yourself (temporarily) banned:"
   ]
  },
  {
   "cell_type": "code",
   "execution_count": 14,
   "metadata": {},
   "outputs": [
    {
     "name": "stdout",
     "output_type": "stream",
     "text": [
      "collecting page 1\n",
      "collecting page 2\n",
      "collecting page 3\n",
      "collecting page 4\n",
      "collecting page 5\n"
     ]
    }
   ],
   "source": [
    "import time\n",
    "\n",
    "parameters = {'q': query,\n",
    "          'maxResults': 20,\n",
    "          'startIndex': 0}\n",
    "\n",
    "all_results = []\n",
    "for i in range(5):\n",
    "    print(\"collecting page \" + str(i + 1))\n",
    "    \n",
    "    r = requests.get(books_url, params=parameters)\n",
    "    results = r.json()\n",
    "    parsed = parse_results(results)\n",
    "    all_results.extend(parsed)\n",
    "    \n",
    "    time.sleep(1) # very important to not overload API\n",
    "    parameters['startIndex'] += parameters['maxResults']"
   ]
  },
  {
   "cell_type": "code",
   "execution_count": 15,
   "metadata": {},
   "outputs": [
    {
     "name": "stdout",
     "output_type": "stream",
     "text": [
      "100\n"
     ]
    }
   ],
   "source": [
    "print(len(all_results))"
   ]
  },
  {
   "cell_type": "markdown",
   "metadata": {},
   "source": [
    "Now we can write this data to a CSV."
   ]
  },
  {
   "cell_type": "code",
   "execution_count": 16,
   "metadata": {},
   "outputs": [],
   "source": [
    "import csv\n",
    "\n",
    "keys = all_results[0].keys()\n",
    "\n",
    "with open('books_search.csv', 'w') as output_file:\n",
    "    dict_writer = csv.DictWriter(output_file, keys)\n",
    "    dict_writer.writeheader()\n",
    "    dict_writer.writerows(all_results)"
   ]
  },
  {
   "cell_type": "code",
   "execution_count": null,
   "metadata": {},
   "outputs": [],
   "source": []
  }
 ],
 "metadata": {
  "kernelspec": {
   "display_name": "Python 3",
   "language": "python",
   "name": "python3"
  },
  "language_info": {
   "codemirror_mode": {
    "name": "ipython",
    "version": 3
   },
   "file_extension": ".py",
   "mimetype": "text/x-python",
   "name": "python",
   "nbconvert_exporter": "python",
   "pygments_lexer": "ipython3",
   "version": "3.7.6"
  }
 },
 "nbformat": 4,
 "nbformat_minor": 2
}
