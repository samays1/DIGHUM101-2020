{
 "cells": [
  {
   "cell_type": "code",
   "execution_count": 1,
   "metadata": {},
   "outputs": [],
   "source": [
    "# !pip install praw (Python Reddit API Wrapper)\n",
    "import praw\n",
    "\n",
    "# !pip install tweepy (Twitter API client)\n",
    "import tweepy\n",
    "\n",
    "import pandas as pd"
   ]
  },
  {
   "cell_type": "markdown",
   "metadata": {},
   "source": [
    "# Introduction to Social Media Data\n",
    "\n",
    "Data from social media platforms are more important than ever. However, fact-checking is also more important than ever as misinformation, hatespeech, bots, and trolling become more and more prevalent. [Reddit](https://www.reddit.com/) and [Twitter](https://twitter.com/) are two of the most popular social media websites. "
   ]
  },
  {
   "cell_type": "markdown",
   "metadata": {},
   "source": [
    "# Reddit\n",
    "\n",
    "Let's follow this tutorial to see how you can connect to Reddit's [API](https://en.wikipedia.org/wiki/Application_programming_interface): \n",
    "\n",
    "https://pythonprogramming.net/introduction-python-reddit-api-wrapper-praw-tutorial/\n",
    "\n",
    "[The praw documentation is also very useful](https://praw.readthedocs.io/en/latest/getting_started/quick_start.html)!\n",
    "\n",
    "1. Visit https://www.reddit.com/\n",
    "2. Click Sign Up/Log In to create an account or login\n",
    "3. Click the drop-down menu next to your username and select \"Visit Old Reddit\"\n",
    "4. Click Preferences --> Apps --> Create New App\n",
    "5. Click the \"script\" radio button\n",
    "6. Give your project a name and description\n",
    "7. Enter an \"about URL\" if you choose (such as your project name)\n",
    "8. Enter http://localhost:8080 for your the \"redirect uri\""
   ]
  },
  {
   "cell_type": "markdown",
   "metadata": {},
   "source": [
    "# 1. Authenticate!\n",
    "\n",
    "Create an instance and add your information: \n",
    "\n",
    "- client_id = the code under your project name in the upper-left\n",
    "- client_secret = your API access token\n",
    "- password = your password\n",
    "- user_agent = put something like: 'dhe 1.0 by /u/dh_example'\n",
    "- username = your username"
   ]
  },
  {
   "cell_type": "markdown",
   "metadata": {},
   "source": [
    "# Create a Reddit API instance"
   ]
  },
  {
   "cell_type": "code",
   "execution_count": 2,
   "metadata": {},
   "outputs": [],
   "source": [
    "# We need these 5 things - let's overwrite them with our own!\n",
    "reddit = praw.Reddit(client_id='clientid',\n",
    "                     client_secret='secret', password='password',\n",
    "                     user_agent='PrawTut', username='username')"
   ]
  },
  {
   "cell_type": "code",
   "execution_count": 3,
   "metadata": {},
   "outputs": [],
   "source": [
    "reddit = praw.Reddit(client_id='????????',\n",
    "                     client_secret='????????', password='????????',\n",
    "                     user_agent='dhe 1.0 by /u/dh_example', username='dh_example')"
   ]
  },
  {
   "cell_type": "code",
   "execution_count": 4,
   "metadata": {},
   "outputs": [],
   "source": [
    "# Check out a subreddit\n",
    "subreddit = reddit.subreddit('BlackLivesMatter')"
   ]
  },
  {
   "cell_type": "code",
   "execution_count": 5,
   "metadata": {},
   "outputs": [],
   "source": [
    "# Filter the Python subreddit by hot topics\n",
    "hot_blm = subreddit.hot()"
   ]
  },
  {
   "cell_type": "code",
   "execution_count": null,
   "metadata": {},
   "outputs": [],
   "source": [
    "# Check out reddit methods\n",
    "reddit."
   ]
  },
  {
   "cell_type": "code",
   "execution_count": null,
   "metadata": {},
   "outputs": [],
   "source": [
    "# Check out subreddit methods\n",
    "subreddit."
   ]
  },
  {
   "cell_type": "code",
   "execution_count": 6,
   "metadata": {},
   "outputs": [
    {
     "name": "stdout",
     "output_type": "stream",
     "text": [
      "gswtuh\n",
      "gyywij\n",
      "gyt2gq\n",
      "gz1mnj\n",
      "gyy56b\n",
      "gyqw5w\n",
      "gyfsgy\n",
      "gymee8\n",
      "gyxuya\n",
      "gyrjrg\n",
      "gyk7z3\n",
      "gz4578\n",
      "gyxom0\n",
      "gyr88a\n",
      "gylgp0\n",
      "gyyhap\n",
      "gyzn9l\n",
      "gz0s81\n",
      "gyzw17\n",
      "gyie43\n",
      "gyqm4p\n",
      "gydwol\n",
      "gyq441\n",
      "gyrcl3\n",
      "gyj8f8\n",
      "gz0idm\n",
      "gytx6h\n",
      "gz46pr\n",
      "gz2ntq\n",
      "gz3qdg\n",
      "gypxuu\n",
      "gz127m\n",
      "gz23v1\n",
      "gyhtpi\n",
      "gz3415\n",
      "gz1n3s\n",
      "gys2st\n",
      "gyw1wi\n",
      "gygw6r\n",
      "gz3oyb\n",
      "gywfas\n",
      "gyu6q5\n",
      "gyn4vd\n",
      "gz0056\n",
      "gz5kpw\n",
      "gymfjr\n",
      "gyzlow\n",
      "gywwpf\n",
      "gz4y7q\n",
      "gz0n5v\n",
      "gykono\n",
      "gz21es\n",
      "gz4fw4\n",
      "gz065g\n",
      "gytecq\n",
      "gz497n\n",
      "gz415m\n",
      "gz1ijt\n",
      "gz3uxl\n",
      "gyrzv7\n",
      "gz2x65\n",
      "gz2udf\n",
      "gyfck7\n",
      "gy5zwq\n",
      "gyo0pa\n",
      "gz2a49\n",
      "gz29ft\n",
      "gyzkbr\n",
      "gz1s58\n",
      "gz1n8g\n",
      "gz1m5x\n",
      "gyz4kr\n",
      "gz5iqs\n",
      "gz5ch8\n",
      "gz5b4p\n",
      "gz58xa\n",
      "gz580a\n",
      "gz578h\n",
      "gyvsvv\n",
      "gyvs6w\n",
      "gz4vys\n",
      "gye4s7\n",
      "gz4mjj\n",
      "gz4hda\n",
      "gy6f23\n",
      "gz06hv\n",
      "gypsev\n",
      "gyinns\n",
      "gz028n\n",
      "gyzzem\n",
      "gyv3nu\n",
      "gz401c\n",
      "gyvs0v\n",
      "gyebjw\n",
      "gz3ngd\n",
      "gyq15z\n",
      "gz3kfo\n",
      "gz3ju3\n",
      "gz3ijp\n",
      "gynw7k\n"
     ]
    }
   ],
   "source": [
    "# Iterate to get the object IDs\n",
    "for submission in hot_blm:\n",
    "    print(submission)"
   ]
  },
  {
   "cell_type": "code",
   "execution_count": 7,
   "metadata": {},
   "outputs": [
    {
     "name": "stdout",
     "output_type": "stream",
     "text": [
      "If you are looking for a local protest, try searching on facebook!\n",
      "Open Letter to Steve Huffman and the Board of Directors of Reddit, Inc– If you believe in standing up to hate and supporting black lives, you need to act\n",
      "In LA today. Biggest protests yet.\n",
      "Great Energy Here in London UK during the Protests tiktok (Lovechild1999)\n",
      "Apple Maps satellite view updated to show Black Lives Matter street painting.\n"
     ]
    }
   ],
   "source": [
    "# Return just the first 5 and print their titles\n",
    "hot_blm = subreddit.hot(limit = 5)\n",
    "for submission in hot_blm:\n",
    "    print(submission.title)"
   ]
  },
  {
   "cell_type": "code",
   "execution_count": 8,
   "metadata": {},
   "outputs": [
    {
     "name": "stdout",
     "output_type": "stream",
     "text": [
      "Title: In LA today. Biggest protests yet., ups: 2002, downs: 0, Have we visited?: False\n",
      "Title: Great Energy Here in London UK during the Protests tiktok (Lovechild1999), ups: 169, downs: 0, Have we visited?: False\n",
      "Title: Apple Maps satellite view updated to show Black Lives Matter street painting., ups: 66, downs: 0, Have we visited?: False\n"
     ]
    }
   ],
   "source": [
    "# Define a blank dictionary to store the metadata\n",
    "conversedict = {}\n",
    "\n",
    "# Get more information\n",
    "hot_blm = subreddit.hot(limit = 5)\n",
    "for submission in hot_blm:\n",
    "    if not submission.stickied:\n",
    "        print('Title: {}, ups: {}, downs: {}, Have we visited?: {}'.format(submission.title,\n",
    "                                                                           submission.ups,\n",
    "                                                                           submission.downs,\n",
    "                                                                           submission.visited))\n",
    "        \n",
    "        submission.comments.replace_more(limit=0)\n",
    "        for comment in submission.comments.list():\n",
    "            if comment.id not in conversedict:\n",
    "                conversedict[comment.id] = [comment.body,{}]\n",
    "                if comment.parent() != submission.id:\n",
    "                    parent = str(comment.parent())\n",
    "                    conversedict[parent][1][comment.id] = [comment.ups, comment.body]"
   ]
  },
  {
   "cell_type": "code",
   "execution_count": 9,
   "metadata": {},
   "outputs": [
    {
     "name": "stdout",
     "output_type": "stream",
     "text": [
      "Original Message: Image how big it could be if a lot of people weren't still rightfully afraid of being in large crowds with no distancing like this.\n",
      "___________________________________\n",
      "Replies:\n",
      "[25, 'I live in L.A. and have been involved in a lot of progressive community activism in L.A. I know there are a ton of people sitting out over COVID fears and to still see this turnout is so fucking wonderful.']\n",
      "[22, \"Then they'd all be busy with their wage slavery\"]\n",
      "[1, 'Or afraid of the police themselves. I’m asthmatic, and worry pepper spray or tear gas could end my life. I’m sure I’m not alone having difficulty weighing these decisions.']\n",
      "Original Message: I can’t help but consider that COVID-19 is still going on. I’m proud of them for standing up for their rights despite the risk, I wish I could take that risk to. Unfortunately immuno compromised\n",
      "___________________________________\n",
      "Replies:\n",
      "[32, \"You DON'T have to protest to make a difference! Talk with family and friends about the problems, write letters and call legislators, vote especially for local elections, sign petitions like the mail in voting one going around, donate to ACLU NAACP etc! There's so much work to be done and we can all play a part!\"]\n",
      "[21, 'I would rather be at an outdoor protest in the sunshine, with a mask on, than in an indoor bar or restaurant without one']\n",
      "[6, \"I'm immunocompromised too and there are definitely  a  ton of ways to get involved.\"]\n",
      "Original Message: Black Lives Matter, Smash the patriarchy, and crush the police along with capitalism. I've never been so proud of my country's people. I love you all.\n",
      "___________________________________\n",
      "Replies:\n",
      "[9, 'If you have a black liver you are dead.']\n",
      "[-15, '\"Crush the police\"... How thoughtless. When did activism against the BAD cops become \"crush the police\"? Are you trying to get more innocent people assassinated?']\n",
      "[-4, '[removed]']\n",
      "Original Message: I feel like this is getting out of control . It’s literally global now . I sincerely hope that it all works out. And even more , I sincerely hope this doesn’t spread corona like wildfire.\n",
      "___________________________________\n",
      "Replies:\n",
      "[23, \"As proud as I am, that's what I see here. Just a fuckin field day for Corona\"]\n",
      "[8, \"2 weeks of mostly peaceful protests around the world vs years of racial injustice and systemic abuse\\n\\nOnes been more out of control than the other\\n\\nBut same for both hopes. Witnessing major history in what's considered to be the largest civil rights movement ever right now\"]\n",
      "[7, \"If it doesn't go out of control things won't change. Out of control is out of the regular, and the regular is exactly what we're trying to break free from.\"]\n",
      "Original Message: I'm flabbergasted that all the messages about Covid-19 are being downvoted. People who post this are worried about your safety, don't you realize that? You guys, I'm not a US - citizen, are among the countries with the most victims. It's only fair to think about that as well since this kind of demonstrations can turn into a catastrophe.\n",
      "\n",
      "Stay safe everyone.\n",
      "___________________________________\n",
      "Replies:\n",
      "[8, 'Rasism and police brutality have cause far more damage and death than covid could ever hope to. I’d say the reason people are downvoting is because a lot of people opposing this movement (whatever their motivation be) are using covid as one of the many excuses as to why.']\n",
      "[8, 'I fear the pandemic as well, but this is too big and important to halt. The US curve has flattened some so it’s not the worst timing. Here in Brasil we are at peak and only keeps growing but cops keep going into people’s houses in the middle of a pandemic to shoot them, how can people stay inside only to wait to possibly die one way or another? I’m glad that BLM is making waves like these because they reverberate all over the globe.']\n",
      "[2, 'Being \"worried about your safety\" is how the karens and politicians frame it when they are trying to get people placated again. Time and time again. Covid is a huge concern here, but the time to be worried about safety was decades ago when we allowed racist laws to stay on the books post MLK. It was centuries ago when we allowed the south to keep it\\'s racist heritage and not outlaw the confederate flag. It was back when all these corrupt police bureaus and unions were formed, and no one put any oversight in there or accountability. \\n\\nDo what you can to fight covid at the same time, but the bigger boss has entered the fight and we can\\'t get bogged down slapping around the minions for the rest of our life any more. That tactic is what the power in the country has rolled out for decades with no reason to change the technique. That\\'s why those comments get downvoted.']\n",
      "[-1, 'There’s still less covid deaths than the flu. But everyone would happily protest during flu season']\n",
      "[-1, 'The virus was a bit overhyped anyway tbh, this is really the much more important issue right now.']\n",
      "Original Message: u/VredditDownloader\n",
      "___________________________________\n",
      "Replies:\n",
      "[1, 'Come on, where the bot at :(']\n",
      "[1, '[video link](https://reddit.tube/d/ex8YLJF)']\n",
      "Original Message: \"Crush the police\"... How thoughtless. When did activism against the BAD cops become \"crush the police\"? Are you trying to get more innocent people assassinated?\n",
      "___________________________________\n",
      "Replies:\n",
      "[9, '...over the past 10 days. Have you not been paying attention? We\\'re defunding them fam, and replacing the police (aka crush the police) with social organizations that focus on addressing the cause of crime (poverty). The current police structure was built on racism and oppression, it\\'s too entrenched to \"change it.\"']\n",
      "[2, 'As long as there are bad police, there are no good police.']\n",
      "Original Message: What i meant to ask is, is there anything being done to spread people out and prevent the spread of covid 19?\n",
      "___________________________________\n",
      "Replies:\n",
      "[8, \"I see more people wear a mask at protests than anywhere else. Plus open air and summer weather (probably) helps. It's still a risk though. This is too important to stop and I haven't seen evidence of medical being overwhelmed yet. Hopefully this doesn't cause a huge flair up of cases!\"]\n",
      "[1, 'Yea, something is being done... these protests. Protecting your health isn\\'t really much of a concern when you might get gunned down by a \"boy in blue\" in the street, or a single bad, but treatable, sickness will bankrupt you for the rest of your life. More people have very little to lose in this country than anyone in the MSM or big political parties are comfortable talking about.']\n",
      "Original Message: It can't comment on this sub so it send a pm\n",
      "___________________________________\n",
      "Replies:\n",
      "[1, 'Thank you']\n",
      "[1, 'So then how do I get a copy too?']\n"
     ]
    }
   ],
   "source": [
    "for post_id in conversedict:\n",
    "    message = conversedict[post_id][0]\n",
    "    replies = conversedict[post_id][1]\n",
    "    if len(replies) > 1:\n",
    "        print('Original Message: {}'.format(message))\n",
    "        print(35*'_')\n",
    "        print('Replies:')\n",
    "        for reply in replies:\n",
    "            print(replies[reply])"
   ]
  },
  {
   "cell_type": "code",
   "execution_count": 10,
   "metadata": {},
   "outputs": [
    {
     "name": "stdout",
     "output_type": "stream",
     "text": [
      "Original Message: Image how big it could be if a lot of people weren't still rightfully afraid of being in large crowds with no distancing like this.\n",
      "___________________________________\n",
      "Replies:\n",
      "Original Message: I can’t help but consider that COVID-19 is still going on. I’m proud of them for standing up for their rights despite the risk, I wish I could take that risk to. Unfortunately immuno compromised\n",
      "___________________________________\n",
      "Replies:\n",
      "Original Message: Black Lives Matter, Smash the patriarchy, and crush the police along with capitalism. I've never been so proud of my country's people. I love you all.\n",
      "___________________________________\n",
      "Replies:\n",
      "Original Message: I feel like this is getting out of control . It’s literally global now . I sincerely hope that it all works out. And even more , I sincerely hope this doesn’t spread corona like wildfire.\n",
      "___________________________________\n",
      "Replies:\n",
      "Original Message: I'm flabbergasted that all the messages about Covid-19 are being downvoted. People who post this are worried about your safety, don't you realize that? You guys, I'm not a US - citizen, are among the countries with the most victims. It's only fair to think about that as well since this kind of demonstrations can turn into a catastrophe.\n",
      "\n",
      "Stay safe everyone.\n",
      "___________________________________\n",
      "Replies:\n",
      "Original Message: u/VredditDownloader\n",
      "___________________________________\n",
      "Replies:\n",
      "Original Message: \"Crush the police\"... How thoughtless. When did activism against the BAD cops become \"crush the police\"? Are you trying to get more innocent people assassinated?\n",
      "___________________________________\n",
      "Replies:\n",
      "Original Message: What i meant to ask is, is there anything being done to spread people out and prevent the spread of covid 19?\n",
      "___________________________________\n",
      "Replies:\n",
      "Original Message: It can't comment on this sub so it send a pm\n",
      "___________________________________\n",
      "Replies:\n"
     ]
    }
   ],
   "source": [
    "# Define a blank list for export to data frame\n",
    "reddit_output = []\n",
    "\n",
    "for post_id in conversedict:\n",
    "    message = conversedict[post_id][0]\n",
    "    replies = conversedict[post_id][1]\n",
    "    if len(replies) > 1:\n",
    "        print('Original Message: {}'.format(message))\n",
    "        print(35*'_')\n",
    "        print('Replies:')\n",
    "        for reply in replies:\n",
    "            reddit_output.append(replies[reply])"
   ]
  },
  {
   "cell_type": "code",
   "execution_count": 11,
   "metadata": {},
   "outputs": [
    {
     "data": {
      "text/plain": [
       "[[25,\n",
       "  'I live in L.A. and have been involved in a lot of progressive community activism in L.A. I know there are a ton of people sitting out over COVID fears and to still see this turnout is so fucking wonderful.'],\n",
       " [22, \"Then they'd all be busy with their wage slavery\"],\n",
       " [1,\n",
       "  'Or afraid of the police themselves. I’m asthmatic, and worry pepper spray or tear gas could end my life. I’m sure I’m not alone having difficulty weighing these decisions.'],\n",
       " [32,\n",
       "  \"You DON'T have to protest to make a difference! Talk with family and friends about the problems, write letters and call legislators, vote especially for local elections, sign petitions like the mail in voting one going around, donate to ACLU NAACP etc! There's so much work to be done and we can all play a part!\"],\n",
       " [21,\n",
       "  'I would rather be at an outdoor protest in the sunshine, with a mask on, than in an indoor bar or restaurant without one'],\n",
       " [6,\n",
       "  \"I'm immunocompromised too and there are definitely  a  ton of ways to get involved.\"],\n",
       " [9, 'If you have a black liver you are dead.'],\n",
       " [-15,\n",
       "  '\"Crush the police\"... How thoughtless. When did activism against the BAD cops become \"crush the police\"? Are you trying to get more innocent people assassinated?'],\n",
       " [-4, '[removed]'],\n",
       " [23,\n",
       "  \"As proud as I am, that's what I see here. Just a fuckin field day for Corona\"],\n",
       " [8,\n",
       "  \"2 weeks of mostly peaceful protests around the world vs years of racial injustice and systemic abuse\\n\\nOnes been more out of control than the other\\n\\nBut same for both hopes. Witnessing major history in what's considered to be the largest civil rights movement ever right now\"],\n",
       " [7,\n",
       "  \"If it doesn't go out of control things won't change. Out of control is out of the regular, and the regular is exactly what we're trying to break free from.\"],\n",
       " [8,\n",
       "  'Rasism and police brutality have cause far more damage and death than covid could ever hope to. I’d say the reason people are downvoting is because a lot of people opposing this movement (whatever their motivation be) are using covid as one of the many excuses as to why.'],\n",
       " [8,\n",
       "  'I fear the pandemic as well, but this is too big and important to halt. The US curve has flattened some so it’s not the worst timing. Here in Brasil we are at peak and only keeps growing but cops keep going into people’s houses in the middle of a pandemic to shoot them, how can people stay inside only to wait to possibly die one way or another? I’m glad that BLM is making waves like these because they reverberate all over the globe.'],\n",
       " [2,\n",
       "  'Being \"worried about your safety\" is how the karens and politicians frame it when they are trying to get people placated again. Time and time again. Covid is a huge concern here, but the time to be worried about safety was decades ago when we allowed racist laws to stay on the books post MLK. It was centuries ago when we allowed the south to keep it\\'s racist heritage and not outlaw the confederate flag. It was back when all these corrupt police bureaus and unions were formed, and no one put any oversight in there or accountability. \\n\\nDo what you can to fight covid at the same time, but the bigger boss has entered the fight and we can\\'t get bogged down slapping around the minions for the rest of our life any more. That tactic is what the power in the country has rolled out for decades with no reason to change the technique. That\\'s why those comments get downvoted.'],\n",
       " [-1,\n",
       "  'There’s still less covid deaths than the flu. But everyone would happily protest during flu season'],\n",
       " [-1,\n",
       "  'The virus was a bit overhyped anyway tbh, this is really the much more important issue right now.'],\n",
       " [1, 'Come on, where the bot at :('],\n",
       " [1, '[video link](https://reddit.tube/d/ex8YLJF)'],\n",
       " [9,\n",
       "  '...over the past 10 days. Have you not been paying attention? We\\'re defunding them fam, and replacing the police (aka crush the police) with social organizations that focus on addressing the cause of crime (poverty). The current police structure was built on racism and oppression, it\\'s too entrenched to \"change it.\"'],\n",
       " [2, 'As long as there are bad police, there are no good police.'],\n",
       " [8,\n",
       "  \"I see more people wear a mask at protests than anywhere else. Plus open air and summer weather (probably) helps. It's still a risk though. This is too important to stop and I haven't seen evidence of medical being overwhelmed yet. Hopefully this doesn't cause a huge flair up of cases!\"],\n",
       " [1,\n",
       "  'Yea, something is being done... these protests. Protecting your health isn\\'t really much of a concern when you might get gunned down by a \"boy in blue\" in the street, or a single bad, but treatable, sickness will bankrupt you for the rest of your life. More people have very little to lose in this country than anyone in the MSM or big political parties are comfortable talking about.'],\n",
       " [1, 'Thank you'],\n",
       " [1, 'So then how do I get a copy too?']]"
      ]
     },
     "execution_count": 11,
     "metadata": {},
     "output_type": "execute_result"
    }
   ],
   "source": [
    "# View the output of the variable\n",
    "reddit_output"
   ]
  },
  {
   "cell_type": "markdown",
   "metadata": {},
   "source": [
    "# Convert to data frame"
   ]
  },
  {
   "cell_type": "code",
   "execution_count": 12,
   "metadata": {},
   "outputs": [
    {
     "data": {
      "text/html": [
       "<div>\n",
       "<style scoped>\n",
       "    .dataframe tbody tr th:only-of-type {\n",
       "        vertical-align: middle;\n",
       "    }\n",
       "\n",
       "    .dataframe tbody tr th {\n",
       "        vertical-align: top;\n",
       "    }\n",
       "\n",
       "    .dataframe thead th {\n",
       "        text-align: right;\n",
       "    }\n",
       "</style>\n",
       "<table border=\"1\" class=\"dataframe\">\n",
       "  <thead>\n",
       "    <tr style=\"text-align: right;\">\n",
       "      <th></th>\n",
       "      <th>Upvotes</th>\n",
       "      <th>Text</th>\n",
       "    </tr>\n",
       "  </thead>\n",
       "  <tbody>\n",
       "    <tr>\n",
       "      <th>0</th>\n",
       "      <td>25</td>\n",
       "      <td>I live in L.A. and have been involved in a lot...</td>\n",
       "    </tr>\n",
       "    <tr>\n",
       "      <th>1</th>\n",
       "      <td>22</td>\n",
       "      <td>Then they'd all be busy with their wage slavery</td>\n",
       "    </tr>\n",
       "    <tr>\n",
       "      <th>2</th>\n",
       "      <td>1</td>\n",
       "      <td>Or afraid of the police themselves. I’m asthma...</td>\n",
       "    </tr>\n",
       "    <tr>\n",
       "      <th>3</th>\n",
       "      <td>32</td>\n",
       "      <td>You DON'T have to protest to make a difference...</td>\n",
       "    </tr>\n",
       "    <tr>\n",
       "      <th>4</th>\n",
       "      <td>21</td>\n",
       "      <td>I would rather be at an outdoor protest in the...</td>\n",
       "    </tr>\n",
       "  </tbody>\n",
       "</table>\n",
       "</div>"
      ],
      "text/plain": [
       "   Upvotes                                               Text\n",
       "0       25  I live in L.A. and have been involved in a lot...\n",
       "1       22    Then they'd all be busy with their wage slavery\n",
       "2        1  Or afraid of the police themselves. I’m asthma...\n",
       "3       32  You DON'T have to protest to make a difference...\n",
       "4       21  I would rather be at an outdoor protest in the..."
      ]
     },
     "execution_count": 12,
     "metadata": {},
     "output_type": "execute_result"
    }
   ],
   "source": [
    "reddit_df = pd.DataFrame(reddit_output, columns = [\"Upvotes\", \"Text\"])\n",
    "reddit_df.head()"
   ]
  },
  {
   "cell_type": "code",
   "execution_count": 13,
   "metadata": {},
   "outputs": [],
   "source": [
    "# Save original message as file name...\n",
    "reddit_df.to_csv(\"blm reddit.csv\")"
   ]
  },
  {
   "cell_type": "markdown",
   "metadata": {},
   "source": [
    "# Twitter\n",
    "\n",
    "Twitter works similarly, but you have to fill out more information to get permission to use their API. \n",
    "\n",
    "Here is a nice Tweepy walkthrough: \n",
    "\n",
    "https://realpython.com/twitter-bot-python-tweepy/\n",
    "\n",
    "[The Tweepy docs are also very useful!](http://docs.tweepy.org/en/latest/)\n",
    "\n",
    "1. Visit https://twitter.com/ and select create account/login\n",
    "2. Visit the Twitter Developer site: https://developer.twitter.com/en and create an account/login (you can skip number 1 above if you wish)\n",
    "3. Click the dropdown menu and click \"Apps\" --> \"Create an app\"\n",
    "4. Fill out the information for your app and confirm your email to get authenticated.\n",
    "5. Click \"Tokens and keys\" and generate your access keys"
   ]
  },
  {
   "cell_type": "markdown",
   "metadata": {},
   "source": [
    "# Authenticate!"
   ]
  },
  {
   "cell_type": "code",
   "execution_count": 14,
   "metadata": {},
   "outputs": [],
   "source": [
    "# Similar to reddit! \n",
    "auth = tweepy.OAuthHandler(\"????????\", \"????????\")\n",
    "auth.set_access_token(\"????????\", \"????????\")\n",
    "\n",
    "# What do these arguments do?\n",
    "api = tweepy.API(auth, wait_on_rate_limit=True,\n",
    "    wait_on_rate_limit_notify=True)\n",
    "\n",
    "public_tweets = api.home_timeline()\n",
    "for tweet in public_tweets:\n",
    "    print(tweet.text)"
   ]
  },
  {
   "cell_type": "code",
   "execution_count": 15,
   "metadata": {},
   "outputs": [
    {
     "name": "stdout",
     "output_type": "stream",
     "text": [
      "Success!\n"
     ]
    }
   ],
   "source": [
    "# Sanity check - did you validate correctly?\n",
    "try:\n",
    "    api.verify_credentials()\n",
    "    print(\"Success!\")\n",
    "except:\n",
    "    print(\"Invalid authentication\")"
   ]
  },
  {
   "cell_type": "code",
   "execution_count": null,
   "metadata": {},
   "outputs": [],
   "source": [
    "# tweepy methods!\n",
    "tweepy."
   ]
  },
  {
   "cell_type": "code",
   "execution_count": null,
   "metadata": {},
   "outputs": [],
   "source": [
    "# Maybe the Internet can provide better explanations?\n",
    "tweepy.API?"
   ]
  },
  {
   "cell_type": "code",
   "execution_count": 16,
   "metadata": {},
   "outputs": [
    {
     "name": "stdout",
     "output_type": "stream",
     "text": [
      "User details:\n",
      "Bill Nye\n",
      "Everyone you will ever meet knows something you don’t.\n",
      "Los Angeles, CA\n",
      "Last 20 Followers:\n",
      "Supreme\n",
      "Samuel\n",
      "__lane__\n",
      "Penta News\n",
      "Philo\n",
      "Amy Chip\n",
      "Anderson Toribio\n",
      "VanadiumCoffeecup\n",
      "Matilda Butner\n",
      "Derrick M\n",
      "Mirka\n",
      "Vanessa Pinheiro 🛰\n",
      "Omar Ulises López López\n",
      "LaVanda T. Luna\n",
      "Josie\n",
      "veecee Victor\n",
      "Zora Johnson\n",
      "Rainman\n",
      "The Nerd\n",
      "aja ussrey\n"
     ]
    }
   ],
   "source": [
    "# Find followers\n",
    "user = api.get_user(\"billnye\")\n",
    "\n",
    "print(\"User details:\")\n",
    "print(user.name)\n",
    "print(user.description)\n",
    "print(user.location)\n",
    "\n",
    "print(\"Last 20 Followers:\")\n",
    "for follower in user.followers():\n",
    "    print(follower.name)"
   ]
  },
  {
   "cell_type": "code",
   "execution_count": 17,
   "metadata": {},
   "outputs": [],
   "source": [
    "# Get the User object for a twitter handle...\n",
    "user = api.get_user('billnye')"
   ]
  },
  {
   "cell_type": "code",
   "execution_count": 18,
   "metadata": {},
   "outputs": [
    {
     "name": "stdout",
     "output_type": "stream",
     "text": [
      "User(_api=<tweepy.api.API object at 0x114db7eb8>, _json={'id': 37710752, 'id_str': '37710752', 'name': 'Bill Nye', 'screen_name': 'BillNye', 'location': 'Los Angeles, CA', 'profile_location': None, 'description': 'Everyone you will ever meet knows something you don’t.', 'url': 'https://t.co/scBos2f6vs', 'entities': {'url': {'urls': [{'url': 'https://t.co/scBos2f6vs', 'expanded_url': 'http://billnye.com', 'display_url': 'billnye.com', 'indices': [0, 23]}]}, 'description': {'urls': []}}, 'protected': False, 'followers_count': 6004779, 'friends_count': 124, 'listed_count': 20285, 'created_at': 'Mon May 04 17:42:04 +0000 2009', 'favourites_count': 150, 'utc_offset': None, 'time_zone': None, 'geo_enabled': True, 'verified': True, 'statuses_count': 2364, 'lang': None, 'status': {'created_at': 'Fri Jun 05 20:52:53 +0000 2020', 'id': 1269009321385320449, 'id_str': '1269009321385320449', 'text': 'Many of us are having a hard time looking up right now. It’s a painful moment. We here at The Planetary Society rec… https://t.co/oKOnWmlSLX', 'truncated': True, 'entities': {'hashtags': [], 'symbols': [], 'user_mentions': [], 'urls': [{'url': 'https://t.co/oKOnWmlSLX', 'expanded_url': 'https://twitter.com/i/web/status/1269009321385320449', 'display_url': 'twitter.com/i/web/status/1…', 'indices': [117, 140]}]}, 'source': '<a href=\"http://twitter.com/download/iphone\" rel=\"nofollow\">Twitter for iPhone</a>', 'in_reply_to_status_id': None, 'in_reply_to_status_id_str': None, 'in_reply_to_user_id': None, 'in_reply_to_user_id_str': None, 'in_reply_to_screen_name': None, 'geo': None, 'coordinates': None, 'place': None, 'contributors': None, 'is_quote_status': False, 'retweet_count': 405, 'favorite_count': 2946, 'favorited': False, 'retweeted': False, 'possibly_sensitive': False, 'lang': 'en'}, 'contributors_enabled': False, 'is_translator': False, 'is_translation_enabled': False, 'profile_background_color': '001329', 'profile_background_image_url': 'http://abs.twimg.com/images/themes/theme1/bg.png', 'profile_background_image_url_https': 'https://abs.twimg.com/images/themes/theme1/bg.png', 'profile_background_tile': False, 'profile_image_url': 'http://pbs.twimg.com/profile_images/606232291438829568/8liw3txV_normal.jpg', 'profile_image_url_https': 'https://pbs.twimg.com/profile_images/606232291438829568/8liw3txV_normal.jpg', 'profile_banner_url': 'https://pbs.twimg.com/profile_banners/37710752/1557791299', 'profile_link_color': 'ABB8C2', 'profile_sidebar_border_color': '2452A8', 'profile_sidebar_fill_color': '78A1CC', 'profile_text_color': '041317', 'profile_use_background_image': True, 'has_extended_profile': False, 'default_profile': False, 'default_profile_image': False, 'following': False, 'follow_request_sent': False, 'notifications': False, 'translator_type': 'none'}, id=37710752, id_str='37710752', name='Bill Nye', screen_name='BillNye', location='Los Angeles, CA', profile_location=None, description='Everyone you will ever meet knows something you don’t.', url='https://t.co/scBos2f6vs', entities={'url': {'urls': [{'url': 'https://t.co/scBos2f6vs', 'expanded_url': 'http://billnye.com', 'display_url': 'billnye.com', 'indices': [0, 23]}]}, 'description': {'urls': []}}, protected=False, followers_count=6004779, friends_count=124, listed_count=20285, created_at=datetime.datetime(2009, 5, 4, 17, 42, 4), favourites_count=150, utc_offset=None, time_zone=None, geo_enabled=True, verified=True, statuses_count=2364, lang=None, status=Status(_api=<tweepy.api.API object at 0x114db7eb8>, _json={'created_at': 'Fri Jun 05 20:52:53 +0000 2020', 'id': 1269009321385320449, 'id_str': '1269009321385320449', 'text': 'Many of us are having a hard time looking up right now. It’s a painful moment. We here at The Planetary Society rec… https://t.co/oKOnWmlSLX', 'truncated': True, 'entities': {'hashtags': [], 'symbols': [], 'user_mentions': [], 'urls': [{'url': 'https://t.co/oKOnWmlSLX', 'expanded_url': 'https://twitter.com/i/web/status/1269009321385320449', 'display_url': 'twitter.com/i/web/status/1…', 'indices': [117, 140]}]}, 'source': '<a href=\"http://twitter.com/download/iphone\" rel=\"nofollow\">Twitter for iPhone</a>', 'in_reply_to_status_id': None, 'in_reply_to_status_id_str': None, 'in_reply_to_user_id': None, 'in_reply_to_user_id_str': None, 'in_reply_to_screen_name': None, 'geo': None, 'coordinates': None, 'place': None, 'contributors': None, 'is_quote_status': False, 'retweet_count': 405, 'favorite_count': 2946, 'favorited': False, 'retweeted': False, 'possibly_sensitive': False, 'lang': 'en'}, created_at=datetime.datetime(2020, 6, 5, 20, 52, 53), id=1269009321385320449, id_str='1269009321385320449', text='Many of us are having a hard time looking up right now. It’s a painful moment. We here at The Planetary Society rec… https://t.co/oKOnWmlSLX', truncated=True, entities={'hashtags': [], 'symbols': [], 'user_mentions': [], 'urls': [{'url': 'https://t.co/oKOnWmlSLX', 'expanded_url': 'https://twitter.com/i/web/status/1269009321385320449', 'display_url': 'twitter.com/i/web/status/1…', 'indices': [117, 140]}]}, source='Twitter for iPhone', source_url='http://twitter.com/download/iphone', in_reply_to_status_id=None, in_reply_to_status_id_str=None, in_reply_to_user_id=None, in_reply_to_user_id_str=None, in_reply_to_screen_name=None, geo=None, coordinates=None, place=None, contributors=None, is_quote_status=False, retweet_count=405, favorite_count=2946, favorited=False, retweeted=False, possibly_sensitive=False, lang='en'), contributors_enabled=False, is_translator=False, is_translation_enabled=False, profile_background_color='001329', profile_background_image_url='http://abs.twimg.com/images/themes/theme1/bg.png', profile_background_image_url_https='https://abs.twimg.com/images/themes/theme1/bg.png', profile_background_tile=False, profile_image_url='http://pbs.twimg.com/profile_images/606232291438829568/8liw3txV_normal.jpg', profile_image_url_https='https://pbs.twimg.com/profile_images/606232291438829568/8liw3txV_normal.jpg', profile_banner_url='https://pbs.twimg.com/profile_banners/37710752/1557791299', profile_link_color='ABB8C2', profile_sidebar_border_color='2452A8', profile_sidebar_fill_color='78A1CC', profile_text_color='041317', profile_use_background_image=True, has_extended_profile=False, default_profile=False, default_profile_image=False, following=False, follow_request_sent=False, notifications=False, translator_type='none')\n"
     ]
    }
   ],
   "source": [
    "print(user)"
   ]
  },
  {
   "cell_type": "code",
   "execution_count": 19,
   "metadata": {},
   "outputs": [],
   "source": [
    "# Define an empty list\n",
    "storage = []\n",
    "\n",
    "def tweets(user_name):\n",
    "          \n",
    "    # Authorize yourself\n",
    "    # consumer_key, consumer_secret\n",
    "    auth = tweepy.OAuthHandler(\"????????\", \n",
    "                                   \"????????\")\n",
    "  \n",
    "    # Provide your tokens\n",
    "    # access_key, access_secret\n",
    "    auth.set_access_token(\"????????\", \n",
    "                              \"????????\")\n",
    "  \n",
    "    # Define an API instance\n",
    "    api = tweepy.API(auth)\n",
    "  \n",
    "    # Define an empty list to store the tweets\n",
    "    storage = []\n",
    "\n",
    "    # Get 20 tweets\n",
    "    num_tweets = 20\n",
    "    tweets = api.user_timeline(screen_name = user_name)\n",
    "  \n",
    "    # Return user, tweet, date and time, and body\n",
    "    tweet_data = [tweet.text for tweet in tweets]\n",
    "    for i in tweet_data: \n",
    "  \n",
    "        # Append storage\n",
    "        storage.append(i)\n",
    "\n",
    "    # What to return?\n",
    "    return storage"
   ]
  },
  {
   "cell_type": "code",
   "execution_count": 20,
   "metadata": {},
   "outputs": [
    {
     "name": "stdout",
     "output_type": "stream",
     "text": [
      "['Many of us are having a hard time looking up right now. It’s a painful moment. We here at The Planetary Society rec… https://t.co/oKOnWmlSLX', 'RT @neiltyson: \"Reflections on the Color of my Skin\"\\n\\n[Commentary: 2400 words]\\n\\nhttps://t.co/QBG784yg3R https://t.co/ZdA5ni777x', 'I’ve had a lot on my mind — I hope you have, too. https://t.co/CbvlFF1nY6', 'Our future in space looks even brighter today!', 'A US-built Falcon 9 rocket, launched from the historic Kennedy Space Center, took two astronauts to the Internation… https://t.co/a94vVfndGI', 'On behalf of @exploreplanets, a tremendous congratulations to the teams at @SpaceX and @NASA!! #SpaceX made history… https://t.co/1V5oxzjlaA', \"RT @exploreplanets: Planetary Society Member roll call, who's watching the #NASA #CrewDragon broadcast right now? 🙌\\n\\nhttps://t.co/hFlZUq4N9L\", \"Today marks the beginning of a new era of human spaceflight! Watch the #SpaceX Crew Dragon's first astronaut flight… https://t.co/EOT6PoovH6\", 'Tomorrow, @SpaceX is launching @NASA astronauts on the first crewed commercial flight to the International Space St… https://t.co/cgTUFed61T', 'Half-staff until noon in memory of those who died for this country— for us. \\nMid-day, will raise our flags to remin… https://t.co/nHD5WekL8u', 'A clue! A clue! I was a clue on @Jeopardy this week. How cool. https://t.co/DXFWxl14Gf', 'Extra rain. Infrastructure not able to handle it. Probably just the start of things. Think about the environment, w… https://t.co/96h4CucmCV', 'Join me tonight at 6pm PT for an hour of explosive fun, stories &amp; more in a candid conversation with Ray at… https://t.co/7tSpamw2bn', 'RT @ennisesmer: @martingero @BillNye Hydrant + Skull = Hero #blindspot https://t.co/7EYZbi40SQ', 'Tonight, I’ll be back on @NBCBlindspot doing my best to protect my daughter Patterson. Our situation gets so stress… https://t.co/ysOFrOD6sN', 'Just because we\\'re stuck at home doesn\\'t mean we can\\'t move mountains. To celebrate the 40th \"Eruptiversary,\" join… https://t.co/vw0uc4nY5l', 'Today especially, I remember my mom. Happy Mother’s Day to all! https://t.co/8hfJm9RD7p', 'Little Richard died today. He was part\\nof the beginning. At 87, he had a pretty good run. We’ll honor him, every ti… https://t.co/aeGs7a0Smq', 'My friend and colleague Mike Mann is in the National Academy of Sciences at last. Let’s respect science and experti… https://t.co/HDb4gtl6Wz', 'When I was 14, I went to the 1st  #EarthDay in D.C. In those days, it was all about pollution. Today, it’s climate… https://t.co/TFVAlCbs8f']\n"
     ]
    }
   ],
   "source": [
    "twitter_output = tweets(\"billnye\")\n",
    "print(twitter_output)"
   ]
  },
  {
   "cell_type": "code",
   "execution_count": 21,
   "metadata": {
    "scrolled": true
   },
   "outputs": [
    {
     "data": {
      "text/html": [
       "<div>\n",
       "<style scoped>\n",
       "    .dataframe tbody tr th:only-of-type {\n",
       "        vertical-align: middle;\n",
       "    }\n",
       "\n",
       "    .dataframe tbody tr th {\n",
       "        vertical-align: top;\n",
       "    }\n",
       "\n",
       "    .dataframe thead th {\n",
       "        text-align: right;\n",
       "    }\n",
       "</style>\n",
       "<table border=\"1\" class=\"dataframe\">\n",
       "  <thead>\n",
       "    <tr style=\"text-align: right;\">\n",
       "      <th></th>\n",
       "      <th>Tweet</th>\n",
       "    </tr>\n",
       "  </thead>\n",
       "  <tbody>\n",
       "    <tr>\n",
       "      <th>0</th>\n",
       "      <td>Many of us are having a hard time looking up r...</td>\n",
       "    </tr>\n",
       "    <tr>\n",
       "      <th>1</th>\n",
       "      <td>RT @neiltyson: \"Reflections on the Color of my...</td>\n",
       "    </tr>\n",
       "    <tr>\n",
       "      <th>2</th>\n",
       "      <td>I’ve had a lot on my mind — I hope you have, t...</td>\n",
       "    </tr>\n",
       "    <tr>\n",
       "      <th>3</th>\n",
       "      <td>Our future in space looks even brighter today!</td>\n",
       "    </tr>\n",
       "    <tr>\n",
       "      <th>4</th>\n",
       "      <td>A US-built Falcon 9 rocket, launched from the ...</td>\n",
       "    </tr>\n",
       "  </tbody>\n",
       "</table>\n",
       "</div>"
      ],
      "text/plain": [
       "                                               Tweet\n",
       "0  Many of us are having a hard time looking up r...\n",
       "1  RT @neiltyson: \"Reflections on the Color of my...\n",
       "2  I’ve had a lot on my mind — I hope you have, t...\n",
       "3     Our future in space looks even brighter today!\n",
       "4  A US-built Falcon 9 rocket, launched from the ..."
      ]
     },
     "execution_count": 21,
     "metadata": {},
     "output_type": "execute_result"
    }
   ],
   "source": [
    "# Convert to data frame\n",
    "twitter_df = pd.DataFrame(twitter_output, columns = [\"Tweet\"])\n",
    "twitter_df.head()"
   ]
  },
  {
   "cell_type": "code",
   "execution_count": 22,
   "metadata": {},
   "outputs": [],
   "source": [
    "twitter_df.to_csv(\"billnye tweets.csv\")"
   ]
  }
 ],
 "metadata": {
  "kernelspec": {
   "display_name": "Python 3",
   "language": "python",
   "name": "python3"
  },
  "language_info": {
   "codemirror_mode": {
    "name": "ipython",
    "version": 3
   },
   "file_extension": ".py",
   "mimetype": "text/x-python",
   "name": "python",
   "nbconvert_exporter": "python",
   "pygments_lexer": "ipython3",
   "version": "3.7.0"
  }
 },
 "nbformat": 4,
 "nbformat_minor": 2
}
