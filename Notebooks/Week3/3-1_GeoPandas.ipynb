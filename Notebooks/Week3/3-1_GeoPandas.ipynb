{
 "cells": [
  {
   "cell_type": "code",
   "execution_count": 1,
   "metadata": {},
   "outputs": [
    {
     "name": "stdout",
     "output_type": "stream",
     "text": [
      "Requirement already satisfied: mapclassify in /opt/anaconda3/lib/python3.7/site-packages (2.2.0)\n",
      "Requirement already satisfied: scikit-learn in /opt/anaconda3/lib/python3.7/site-packages (from mapclassify) (0.22.1)\n",
      "Requirement already satisfied: pandas in /opt/anaconda3/lib/python3.7/site-packages (from mapclassify) (1.0.1)\n",
      "Requirement already satisfied: numpy>=1.3 in /opt/anaconda3/lib/python3.7/site-packages (from mapclassify) (1.18.1)\n",
      "Requirement already satisfied: deprecated in /opt/anaconda3/lib/python3.7/site-packages (from mapclassify) (1.2.10)\n",
      "Requirement already satisfied: scipy>=0.11 in /opt/anaconda3/lib/python3.7/site-packages (from mapclassify) (1.4.1)\n",
      "Requirement already satisfied: joblib>=0.11 in /opt/anaconda3/lib/python3.7/site-packages (from scikit-learn->mapclassify) (0.14.1)\n",
      "Requirement already satisfied: pytz>=2017.2 in /opt/anaconda3/lib/python3.7/site-packages (from pandas->mapclassify) (2018.6)\n",
      "Requirement already satisfied: python-dateutil>=2.6.1 in /opt/anaconda3/lib/python3.7/site-packages (from pandas->mapclassify) (2.8.1)\n",
      "Requirement already satisfied: wrapt<2,>=1.10 in /opt/anaconda3/lib/python3.7/site-packages (from deprecated->mapclassify) (1.11.2)\n",
      "Requirement already satisfied: six>=1.5 in /opt/anaconda3/lib/python3.7/site-packages (from python-dateutil>=2.6.1->pandas->mapclassify) (1.14.0)\n",
      "Collecting geopandas\n",
      "  Using cached geopandas-0.7.0-py2.py3-none-any.whl (928 kB)\n",
      "Collecting shapely\n",
      "  Using cached Shapely-1.7.0-cp37-cp37m-macosx_10_9_x86_64.whl (1.6 MB)\n",
      "Collecting fiona\n",
      "  Using cached Fiona-1.8.13.post1-cp37-cp37m-macosx_10_9_x86_64.whl (13.9 MB)\n",
      "Requirement already satisfied: pandas>=0.23.0 in /opt/anaconda3/lib/python3.7/site-packages (from geopandas) (1.0.1)\n",
      "Collecting pyproj>=2.2.0\n",
      "  Downloading pyproj-2.6.1.post1-cp37-cp37m-macosx_10_9_x86_64.whl (13.0 MB)\n",
      "\u001b[K     |████████████████████████████████| 13.0 MB 274 kB/s eta 0:00:01     |██████████████████████████▎     | 10.7 MB 65 kB/s eta 0:00:36\n",
      "\u001b[?25hRequirement already satisfied: six>=1.7 in /opt/anaconda3/lib/python3.7/site-packages (from fiona->geopandas) (1.14.0)\n",
      "Collecting munch\n",
      "  Downloading munch-2.5.0-py2.py3-none-any.whl (10 kB)\n",
      "Collecting cligj>=0.5\n",
      "  Downloading cligj-0.5.0-py3-none-any.whl (5.7 kB)\n",
      "Collecting click-plugins>=1.0\n",
      "  Downloading click_plugins-1.1.1-py2.py3-none-any.whl (7.5 kB)\n",
      "Requirement already satisfied: attrs>=17 in /opt/anaconda3/lib/python3.7/site-packages (from fiona->geopandas) (19.3.0)\n",
      "Requirement already satisfied: click<8,>=4.0 in /opt/anaconda3/lib/python3.7/site-packages (from fiona->geopandas) (7.0)\n",
      "Requirement already satisfied: pytz>=2017.2 in /opt/anaconda3/lib/python3.7/site-packages (from pandas>=0.23.0->geopandas) (2018.6)\n",
      "Requirement already satisfied: numpy>=1.13.3 in /opt/anaconda3/lib/python3.7/site-packages (from pandas>=0.23.0->geopandas) (1.18.1)\n",
      "Requirement already satisfied: python-dateutil>=2.6.1 in /opt/anaconda3/lib/python3.7/site-packages (from pandas>=0.23.0->geopandas) (2.8.1)\n",
      "Installing collected packages: shapely, munch, cligj, click-plugins, fiona, pyproj, geopandas\n",
      "Successfully installed click-plugins-1.1.1 cligj-0.5.0 fiona-1.8.13.post1 geopandas-0.7.0 munch-2.5.0 pyproj-2.6.1.post1 shapely-1.7.0\n"
     ]
    }
   ],
   "source": [
    "!pip install mapclassify\n",
    "!pip install geopandas"
   ]
  },
  {
   "cell_type": "code",
   "execution_count": 2,
   "metadata": {},
   "outputs": [],
   "source": [
    "import zipfile\n",
    "from zipfile import ZipFile\n",
    "\n",
    "import matplotlib\n",
    "%matplotlib inline\n",
    "import geopandas as gpd\n",
    "import mapclassify\n",
    "\n",
    "import pandas as pd"
   ]
  },
  {
   "cell_type": "markdown",
   "metadata": {},
   "source": [
    "# Learning objectives\n",
    "\n",
    "1. Understand geospatial data in Python\n",
    "2. Download map of USA and plot it; do the same thing with States and California counties\n",
    "3. Learn how to join population data with the spatial-geometric data"
   ]
  },
  {
   "cell_type": "markdown",
   "metadata": {},
   "source": [
    "# Introduction to geospatial data in Python\n",
    "\n",
    "\"[GeoPandas](https://geopandas.org/) is an open source project to make working with geospatial data in python easier. GeoPandas extends the datatypes used by pandas to allow spatial operations on geometric types. Geometric operations are performed by shapely. Geopandas further depends on fiona for file access and descartes and matplotlib for plotting.\""
   ]
  },
  {
   "cell_type": "markdown",
   "metadata": {},
   "source": [
    "![geo1](../../Img/Geo1.png)"
   ]
  },
  {
   "cell_type": "markdown",
   "metadata": {},
   "source": [
    "![geo2](../../Img/Geo2.png)"
   ]
  },
  {
   "cell_type": "markdown",
   "metadata": {},
   "source": [
    "![geo3](../../Img/Geo3.png)"
   ]
  },
  {
   "cell_type": "markdown",
   "metadata": {},
   "source": [
    "![geo4](../../Img/Geo4.png)"
   ]
  },
  {
   "cell_type": "markdown",
   "metadata": {},
   "source": [
    "![geo5](../../Img/Geo5.png)"
   ]
  },
  {
   "cell_type": "markdown",
   "metadata": {},
   "source": [
    "![geo6](../../Img/Geo6.png)"
   ]
  },
  {
   "cell_type": "markdown",
   "metadata": {},
   "source": [
    "![geo7](../../Img/Geo7.png)"
   ]
  },
  {
   "cell_type": "markdown",
   "metadata": {},
   "source": [
    "![geo8](../../Img/Geo8.png)"
   ]
  },
  {
   "cell_type": "markdown",
   "metadata": {},
   "source": [
    "![geo9](../../Img/Geo9.png)"
   ]
  },
  {
   "cell_type": "markdown",
   "metadata": {},
   "source": [
    "![geo10](../../Img/Geo10.png)"
   ]
  },
  {
   "cell_type": "markdown",
   "metadata": {},
   "source": [
    "![geo11](../../Img/Geo11.png)"
   ]
  },
  {
   "cell_type": "markdown",
   "metadata": {},
   "source": [
    "![geo12](../../Img/Geo12.png)"
   ]
  },
  {
   "cell_type": "markdown",
   "metadata": {},
   "source": [
    "# DIVA (Data-Interpolating Variational Analysis)\n",
    "\n",
    "[DIVA-GIS](https://www.diva-gis.org/gdata) is an excellent website for downloading free geographic (GIS) data for any country in the world. The [DIVA-GIS software manual](https://www.diva-gis.org/docs/DIVA-GIS_manual_7.pdf) is worth a read as well. \n",
    "\n",
    "### USA example\n",
    "1. Create a folder named USA (or whatever country/state/region you are working with) in your DIGHUM101-2019 directory (this has already been done for you)\n",
    "2. Visit [DIVA-GIS](https://www.diva-gis.org/gdata) and select \"United States\" from the \"Country\" dropdown menu\n",
    "3. Select \"Administrative Areas\" from the \"Subject\" dropdown menu\n",
    "4. Click \"OK\"\n",
    "5. Click \"Download\"\n",
    "\n",
    "### Unzip the file!"
   ]
  },
  {
   "cell_type": "code",
   "execution_count": 11,
   "metadata": {},
   "outputs": [],
   "source": [
    "# Define a variable for the ZipFile function that contains the path to the zip file \n",
    "# NOTE: you may have to change your file paths to match\n",
    "zf = ZipFile(\"../../Data/Geo/USA_adm.zip\", \"r\")\n",
    "\n",
    "# Use the extractall method with the file path where you want the extracted files to go\n",
    "zf.extractall(\"./USA\")\n",
    "\n",
    "# Stop the process\n",
    "zf.close()"
   ]
  },
  {
   "cell_type": "markdown",
   "metadata": {},
   "source": [
    "### Define our shapefile\n",
    "\n",
    "Shapefiles contain the geometric data!"
   ]
  },
  {
   "cell_type": "code",
   "execution_count": 12,
   "metadata": {},
   "outputs": [
    {
     "name": "stdout",
     "output_type": "stream",
     "text": [
      "<class 'geopandas.geodataframe.GeoDataFrame'>\n"
     ]
    },
    {
     "data": {
      "text/html": [
       "<div>\n",
       "<style scoped>\n",
       "    .dataframe tbody tr th:only-of-type {\n",
       "        vertical-align: middle;\n",
       "    }\n",
       "\n",
       "    .dataframe tbody tr th {\n",
       "        vertical-align: top;\n",
       "    }\n",
       "\n",
       "    .dataframe thead th {\n",
       "        text-align: right;\n",
       "    }\n",
       "</style>\n",
       "<table border=\"1\" class=\"dataframe\">\n",
       "  <thead>\n",
       "    <tr style=\"text-align: right;\">\n",
       "      <th></th>\n",
       "      <th>ID_0</th>\n",
       "      <th>ISO</th>\n",
       "      <th>NAME_0</th>\n",
       "      <th>OBJECTID_1</th>\n",
       "      <th>ISO3</th>\n",
       "      <th>NAME_ENGLI</th>\n",
       "      <th>NAME_ISO</th>\n",
       "      <th>NAME_FAO</th>\n",
       "      <th>NAME_LOCAL</th>\n",
       "      <th>NAME_OBSOL</th>\n",
       "      <th>...</th>\n",
       "      <th>CARICOM</th>\n",
       "      <th>EU</th>\n",
       "      <th>CAN</th>\n",
       "      <th>ACP</th>\n",
       "      <th>Landlocked</th>\n",
       "      <th>AOSIS</th>\n",
       "      <th>SIDS</th>\n",
       "      <th>Islands</th>\n",
       "      <th>LDC</th>\n",
       "      <th>geometry</th>\n",
       "    </tr>\n",
       "  </thead>\n",
       "  <tbody>\n",
       "    <tr>\n",
       "      <th>0</th>\n",
       "      <td>244</td>\n",
       "      <td>USA</td>\n",
       "      <td>United States</td>\n",
       "      <td>238</td>\n",
       "      <td>USA</td>\n",
       "      <td>United States</td>\n",
       "      <td>UNITED STATES</td>\n",
       "      <td>United States of America</td>\n",
       "      <td>United States</td>\n",
       "      <td>None</td>\n",
       "      <td>...</td>\n",
       "      <td>0.0</td>\n",
       "      <td>0.0</td>\n",
       "      <td>0.0</td>\n",
       "      <td>0.0</td>\n",
       "      <td>0.0</td>\n",
       "      <td>0.0</td>\n",
       "      <td>0.0</td>\n",
       "      <td>0.0</td>\n",
       "      <td>0.0</td>\n",
       "      <td>MULTIPOLYGON (((-155.84998 20.26800, -155.8494...</td>\n",
       "    </tr>\n",
       "  </tbody>\n",
       "</table>\n",
       "<p>1 rows × 71 columns</p>\n",
       "</div>"
      ],
      "text/plain": [
       "   ID_0  ISO         NAME_0  OBJECTID_1 ISO3     NAME_ENGLI       NAME_ISO  \\\n",
       "0   244  USA  United States         238  USA  United States  UNITED STATES   \n",
       "\n",
       "                   NAME_FAO     NAME_LOCAL NAME_OBSOL  ... CARICOM   EU  CAN  \\\n",
       "0  United States of America  United States       None  ...     0.0  0.0  0.0   \n",
       "\n",
       "   ACP Landlocked AOSIS SIDS Islands  LDC  \\\n",
       "0  0.0        0.0   0.0  0.0     0.0  0.0   \n",
       "\n",
       "                                            geometry  \n",
       "0  MULTIPOLYGON (((-155.84998 20.26800, -155.8494...  \n",
       "\n",
       "[1 rows x 71 columns]"
      ]
     },
     "execution_count": 12,
     "metadata": {},
     "output_type": "execute_result"
    }
   ],
   "source": [
    "usa = gpd.read_file(\"../../Notebooks/Week3/USA/USA_adm0.shp\")\n",
    "print(type(usa))\n",
    "usa"
   ]
  },
  {
   "cell_type": "code",
   "execution_count": 17,
   "metadata": {},
   "outputs": [
    {
     "data": {
      "text/plain": [
       "<matplotlib.axes._subplots.AxesSubplot at 0x7fba50e327d0>"
      ]
     },
     "execution_count": 17,
     "metadata": {},
     "output_type": "execute_result"
    },
    {
     "data": {
      "image/png": "[encoded data removed]",
      "text/plain": [
       "<Figure size 432x288 with 1 Axes>"
      ]
     },
     "metadata": {
      "needs_background": "light"
     },
     "output_type": "display_data"
    }
   ],
   "source": [
    "# Plot it!\n",
    "usa.plot()"
   ]
  },
  {
   "cell_type": "markdown",
   "metadata": {},
   "source": [
    "# State boundaries\n",
    "\n",
    "Now we need to get the state boundaries to overlay on this map. Visit this URL to download them: https://raw.githubusercontent.com/dlab-geo/geopandas_intro/master/data/us_states.zip"
   ]
  },
  {
   "cell_type": "code",
   "execution_count": 21,
   "metadata": {},
   "outputs": [
    {
     "data": {
      "text/html": [
       "<div>\n",
       "<style scoped>\n",
       "    .dataframe tbody tr th:only-of-type {\n",
       "        vertical-align: middle;\n",
       "    }\n",
       "\n",
       "    .dataframe tbody tr th {\n",
       "        vertical-align: top;\n",
       "    }\n",
       "\n",
       "    .dataframe thead th {\n",
       "        text-align: right;\n",
       "    }\n",
       "</style>\n",
       "<table border=\"1\" class=\"dataframe\">\n",
       "  <thead>\n",
       "    <tr style=\"text-align: right;\">\n",
       "      <th></th>\n",
       "      <th>STATE</th>\n",
       "      <th>GEOID</th>\n",
       "      <th>ABBREV</th>\n",
       "      <th>geometry</th>\n",
       "    </tr>\n",
       "  </thead>\n",
       "  <tbody>\n",
       "    <tr>\n",
       "      <th>0</th>\n",
       "      <td>Alabama</td>\n",
       "      <td>01</td>\n",
       "      <td>AL</td>\n",
       "      <td>MULTIPOLYGON (((-88.05338 30.50699, -88.05109 ...</td>\n",
       "    </tr>\n",
       "    <tr>\n",
       "      <th>1</th>\n",
       "      <td>Alaska</td>\n",
       "      <td>02</td>\n",
       "      <td>AK</td>\n",
       "      <td>MULTIPOLYGON (((-134.73726 58.26135, -134.7344...</td>\n",
       "    </tr>\n",
       "    <tr>\n",
       "      <th>2</th>\n",
       "      <td>Arizona</td>\n",
       "      <td>04</td>\n",
       "      <td>AZ</td>\n",
       "      <td>POLYGON ((-114.81629 32.50804, -114.81432 32.5...</td>\n",
       "    </tr>\n",
       "    <tr>\n",
       "      <th>3</th>\n",
       "      <td>Arkansas</td>\n",
       "      <td>05</td>\n",
       "      <td>AR</td>\n",
       "      <td>POLYGON ((-94.61783 36.49941, -94.61765 36.499...</td>\n",
       "    </tr>\n",
       "    <tr>\n",
       "      <th>4</th>\n",
       "      <td>California</td>\n",
       "      <td>06</td>\n",
       "      <td>CA</td>\n",
       "      <td>MULTIPOLYGON (((-118.60442 33.47855, -118.5987...</td>\n",
       "    </tr>\n",
       "  </tbody>\n",
       "</table>\n",
       "</div>"
      ],
      "text/plain": [
       "        STATE GEOID ABBREV                                           geometry\n",
       "0     Alabama    01     AL  MULTIPOLYGON (((-88.05338 30.50699, -88.05109 ...\n",
       "1      Alaska    02     AK  MULTIPOLYGON (((-134.73726 58.26135, -134.7344...\n",
       "2     Arizona    04     AZ  POLYGON ((-114.81629 32.50804, -114.81432 32.5...\n",
       "3    Arkansas    05     AR  POLYGON ((-94.61783 36.49941, -94.61765 36.499...\n",
       "4  California    06     CA  MULTIPOLYGON (((-118.60442 33.47855, -118.5987..."
      ]
     },
     "execution_count": 21,
     "metadata": {},
     "output_type": "execute_result"
    }
   ],
   "source": [
    "# Read the file\n",
    "# Note this other zip convention\n",
    "state_boundaries = gpd.read_file(\"zip://../../Data/Geo/us_states.zip\")\n",
    "state_boundaries.head()"
   ]
  },
  {
   "cell_type": "code",
   "execution_count": 22,
   "metadata": {},
   "outputs": [
    {
     "data": {
      "image/png": "[encoded data removed]",
      "text/plain": [
       "<Figure size 1008x720 with 1 Axes>"
      ]
     },
     "metadata": {
      "needs_background": "light"
     },
     "output_type": "display_data"
    }
   ],
   "source": [
    "# Plot the state boundaries\n",
    "state_boundaries.plot(\n",
    "    # Width of boundary line\n",
    "    linewidth=0.25, \n",
    "    \n",
    "    # Boundary color line\n",
    "    edgecolor='white', \n",
    "    \n",
    "    # State color\n",
    "    facecolor='green',\n",
    "    \n",
    "    # Figure size\n",
    "    figsize=(14,10));"
   ]
  },
  {
   "cell_type": "code",
   "execution_count": 23,
   "metadata": {},
   "outputs": [
    {
     "data": {
      "text/plain": [
       "<matplotlib.axes._subplots.AxesSubplot at 0x7fba50d72d90>"
      ]
     },
     "execution_count": 23,
     "metadata": {},
     "output_type": "execute_result"
    },
    {
     "data": {
      "image/png": "[encoded data removed]",
      "text/plain": [
       "<Figure size 1008x720 with 1 Axes>"
      ]
     },
     "metadata": {
      "needs_background": "light"
     },
     "output_type": "display_data"
    }
   ],
   "source": [
    "# Spatial subset of the contiguous US (zoom in!)\n",
    "state_boundaries.cx[-130:-70,25:50].plot(linewidth=0.25, \n",
    "                                         edgecolor='white', \n",
    "                                         facecolor='black', \n",
    "                                         figsize=(14,10))"
   ]
  },
  {
   "cell_type": "markdown",
   "metadata": {},
   "source": [
    "# Individual county polygons\n",
    "\n",
    "To get individual state county boundaries, visit https://www.census.gov/geographies/mapping-files/2018/geo/carto-boundary-file.html\n",
    "\n",
    "We want the file \"cb_2018_us_county_5m.zip\" What is California's STATEFP code? "
   ]
  },
  {
   "cell_type": "code",
   "execution_count": 26,
   "metadata": {},
   "outputs": [
    {
     "data": {
      "text/html": [
       "<div>\n",
       "<style scoped>\n",
       "    .dataframe tbody tr th:only-of-type {\n",
       "        vertical-align: middle;\n",
       "    }\n",
       "\n",
       "    .dataframe tbody tr th {\n",
       "        vertical-align: top;\n",
       "    }\n",
       "\n",
       "    .dataframe thead th {\n",
       "        text-align: right;\n",
       "    }\n",
       "</style>\n",
       "<table border=\"1\" class=\"dataframe\">\n",
       "  <thead>\n",
       "    <tr style=\"text-align: right;\">\n",
       "      <th></th>\n",
       "      <th>STATEFP</th>\n",
       "      <th>COUNTYFP</th>\n",
       "      <th>COUNTYNS</th>\n",
       "      <th>AFFGEOID</th>\n",
       "      <th>GEOID</th>\n",
       "      <th>NAME</th>\n",
       "      <th>LSAD</th>\n",
       "      <th>ALAND</th>\n",
       "      <th>AWATER</th>\n",
       "      <th>geometry</th>\n",
       "    </tr>\n",
       "  </thead>\n",
       "  <tbody>\n",
       "    <tr>\n",
       "      <th>0</th>\n",
       "      <td>39</td>\n",
       "      <td>071</td>\n",
       "      <td>01074048</td>\n",
       "      <td>0500000US39071</td>\n",
       "      <td>39071</td>\n",
       "      <td>Highland</td>\n",
       "      <td>06</td>\n",
       "      <td>1432479992</td>\n",
       "      <td>12194983</td>\n",
       "      <td>POLYGON ((-83.86976 39.05553, -83.86568 39.247...</td>\n",
       "    </tr>\n",
       "    <tr>\n",
       "      <th>1</th>\n",
       "      <td>06</td>\n",
       "      <td>003</td>\n",
       "      <td>01675840</td>\n",
       "      <td>0500000US06003</td>\n",
       "      <td>06003</td>\n",
       "      <td>Alpine</td>\n",
       "      <td>06</td>\n",
       "      <td>1912292630</td>\n",
       "      <td>12557304</td>\n",
       "      <td>POLYGON ((-120.07248 38.50987, -120.07239 38.7...</td>\n",
       "    </tr>\n",
       "    <tr>\n",
       "      <th>2</th>\n",
       "      <td>12</td>\n",
       "      <td>033</td>\n",
       "      <td>00295737</td>\n",
       "      <td>0500000US12033</td>\n",
       "      <td>12033</td>\n",
       "      <td>Escambia</td>\n",
       "      <td>06</td>\n",
       "      <td>1701544502</td>\n",
       "      <td>563927612</td>\n",
       "      <td>POLYGON ((-87.62999 30.87766, -87.62946 30.880...</td>\n",
       "    </tr>\n",
       "    <tr>\n",
       "      <th>3</th>\n",
       "      <td>17</td>\n",
       "      <td>101</td>\n",
       "      <td>00424252</td>\n",
       "      <td>0500000US17101</td>\n",
       "      <td>17101</td>\n",
       "      <td>Lawrence</td>\n",
       "      <td>06</td>\n",
       "      <td>963936864</td>\n",
       "      <td>5077783</td>\n",
       "      <td>POLYGON ((-87.91028 38.57493, -87.90811 38.850...</td>\n",
       "    </tr>\n",
       "    <tr>\n",
       "      <th>4</th>\n",
       "      <td>28</td>\n",
       "      <td>153</td>\n",
       "      <td>00695797</td>\n",
       "      <td>0500000US28153</td>\n",
       "      <td>28153</td>\n",
       "      <td>Wayne</td>\n",
       "      <td>06</td>\n",
       "      <td>2099745573</td>\n",
       "      <td>7255476</td>\n",
       "      <td>POLYGON ((-88.94317 31.78421, -88.94335 31.824...</td>\n",
       "    </tr>\n",
       "  </tbody>\n",
       "</table>\n",
       "</div>"
      ],
      "text/plain": [
       "  STATEFP COUNTYFP  COUNTYNS        AFFGEOID  GEOID      NAME LSAD  \\\n",
       "0      39      071  01074048  0500000US39071  39071  Highland   06   \n",
       "1      06      003  01675840  0500000US06003  06003    Alpine   06   \n",
       "2      12      033  00295737  0500000US12033  12033  Escambia   06   \n",
       "3      17      101  00424252  0500000US17101  17101  Lawrence   06   \n",
       "4      28      153  00695797  0500000US28153  28153     Wayne   06   \n",
       "\n",
       "        ALAND     AWATER                                           geometry  \n",
       "0  1432479992   12194983  POLYGON ((-83.86976 39.05553, -83.86568 39.247...  \n",
       "1  1912292630   12557304  POLYGON ((-120.07248 38.50987, -120.07239 38.7...  \n",
       "2  1701544502  563927612  POLYGON ((-87.62999 30.87766, -87.62946 30.880...  \n",
       "3   963936864    5077783  POLYGON ((-87.91028 38.57493, -87.90811 38.850...  \n",
       "4  2099745573    7255476  POLYGON ((-88.94317 31.78421, -88.94335 31.824...  "
      ]
     },
     "execution_count": 26,
     "metadata": {},
     "output_type": "execute_result"
    }
   ],
   "source": [
    "counties = gpd.read_file(\"zip://../../Data/Geo/cb_2018_us_county_5m.zip\")\n",
    "counties.head()"
   ]
  },
  {
   "cell_type": "code",
   "execution_count": 27,
   "metadata": {},
   "outputs": [
    {
     "data": {
      "text/html": [
       "<div>\n",
       "<style scoped>\n",
       "    .dataframe tbody tr th:only-of-type {\n",
       "        vertical-align: middle;\n",
       "    }\n",
       "\n",
       "    .dataframe tbody tr th {\n",
       "        vertical-align: top;\n",
       "    }\n",
       "\n",
       "    .dataframe thead th {\n",
       "        text-align: right;\n",
       "    }\n",
       "</style>\n",
       "<table border=\"1\" class=\"dataframe\">\n",
       "  <thead>\n",
       "    <tr style=\"text-align: right;\">\n",
       "      <th></th>\n",
       "      <th>STATEFP</th>\n",
       "      <th>COUNTYFP</th>\n",
       "      <th>COUNTYNS</th>\n",
       "      <th>AFFGEOID</th>\n",
       "      <th>GEOID</th>\n",
       "      <th>NAME</th>\n",
       "      <th>LSAD</th>\n",
       "      <th>ALAND</th>\n",
       "      <th>AWATER</th>\n",
       "      <th>geometry</th>\n",
       "    </tr>\n",
       "  </thead>\n",
       "  <tbody>\n",
       "    <tr>\n",
       "      <th>1</th>\n",
       "      <td>06</td>\n",
       "      <td>003</td>\n",
       "      <td>01675840</td>\n",
       "      <td>0500000US06003</td>\n",
       "      <td>06003</td>\n",
       "      <td>Alpine</td>\n",
       "      <td>06</td>\n",
       "      <td>1912292630</td>\n",
       "      <td>12557304</td>\n",
       "      <td>POLYGON ((-120.07248 38.50987, -120.07239 38.7...</td>\n",
       "    </tr>\n",
       "    <tr>\n",
       "      <th>21</th>\n",
       "      <td>06</td>\n",
       "      <td>109</td>\n",
       "      <td>00277319</td>\n",
       "      <td>0500000US06109</td>\n",
       "      <td>06109</td>\n",
       "      <td>Tuolumne</td>\n",
       "      <td>06</td>\n",
       "      <td>5752079372</td>\n",
       "      <td>138722707</td>\n",
       "      <td>POLYGON ((-120.65255 37.83346, -120.64407 37.8...</td>\n",
       "    </tr>\n",
       "    <tr>\n",
       "      <th>51</th>\n",
       "      <td>06</td>\n",
       "      <td>103</td>\n",
       "      <td>01692767</td>\n",
       "      <td>0500000US06103</td>\n",
       "      <td>06103</td>\n",
       "      <td>Tehama</td>\n",
       "      <td>06</td>\n",
       "      <td>7638228750</td>\n",
       "      <td>33767783</td>\n",
       "      <td>POLYGON ((-123.05927 40.28548, -123.04970 40.2...</td>\n",
       "    </tr>\n",
       "    <tr>\n",
       "      <th>52</th>\n",
       "      <td>06</td>\n",
       "      <td>105</td>\n",
       "      <td>00277317</td>\n",
       "      <td>0500000US06105</td>\n",
       "      <td>06105</td>\n",
       "      <td>Trinity</td>\n",
       "      <td>06</td>\n",
       "      <td>8234265085</td>\n",
       "      <td>73407950</td>\n",
       "      <td>POLYGON ((-123.61749 40.93114, -123.60956 40.9...</td>\n",
       "    </tr>\n",
       "    <tr>\n",
       "      <th>114</th>\n",
       "      <td>06</td>\n",
       "      <td>069</td>\n",
       "      <td>00277299</td>\n",
       "      <td>0500000US06069</td>\n",
       "      <td>06069</td>\n",
       "      <td>San Benito</td>\n",
       "      <td>06</td>\n",
       "      <td>3596590995</td>\n",
       "      <td>4719296</td>\n",
       "      <td>POLYGON ((-121.64400 36.89400, -121.62946 36.9...</td>\n",
       "    </tr>\n",
       "  </tbody>\n",
       "</table>\n",
       "</div>"
      ],
      "text/plain": [
       "    STATEFP COUNTYFP  COUNTYNS        AFFGEOID  GEOID        NAME LSAD  \\\n",
       "1        06      003  01675840  0500000US06003  06003      Alpine   06   \n",
       "21       06      109  00277319  0500000US06109  06109    Tuolumne   06   \n",
       "51       06      103  01692767  0500000US06103  06103      Tehama   06   \n",
       "52       06      105  00277317  0500000US06105  06105     Trinity   06   \n",
       "114      06      069  00277299  0500000US06069  06069  San Benito   06   \n",
       "\n",
       "          ALAND     AWATER                                           geometry  \n",
       "1    1912292630   12557304  POLYGON ((-120.07248 38.50987, -120.07239 38.7...  \n",
       "21   5752079372  138722707  POLYGON ((-120.65255 37.83346, -120.64407 37.8...  \n",
       "51   7638228750   33767783  POLYGON ((-123.05927 40.28548, -123.04970 40.2...  \n",
       "52   8234265085   73407950  POLYGON ((-123.61749 40.93114, -123.60956 40.9...  \n",
       "114  3596590995    4719296  POLYGON ((-121.64400 36.89400, -121.62946 36.9...  "
      ]
     },
     "execution_count": 27,
     "metadata": {},
     "output_type": "execute_result"
    }
   ],
   "source": [
    "# Just california...\n",
    "cal_counties = counties[counties[\"STATEFP\"] == \"06\"]\n",
    "cal_counties.head()"
   ]
  },
  {
   "cell_type": "code",
   "execution_count": 28,
   "metadata": {},
   "outputs": [
    {
     "data": {
      "text/html": [
       "<div>\n",
       "<style scoped>\n",
       "    .dataframe tbody tr th:only-of-type {\n",
       "        vertical-align: middle;\n",
       "    }\n",
       "\n",
       "    .dataframe tbody tr th {\n",
       "        vertical-align: top;\n",
       "    }\n",
       "\n",
       "    .dataframe thead th {\n",
       "        text-align: right;\n",
       "    }\n",
       "</style>\n",
       "<table border=\"1\" class=\"dataframe\">\n",
       "  <thead>\n",
       "    <tr style=\"text-align: right;\">\n",
       "      <th></th>\n",
       "      <th>STATE</th>\n",
       "      <th>GEOID</th>\n",
       "      <th>ABBREV</th>\n",
       "      <th>geometry</th>\n",
       "    </tr>\n",
       "  </thead>\n",
       "  <tbody>\n",
       "    <tr>\n",
       "      <th>0</th>\n",
       "      <td>Alabama</td>\n",
       "      <td>01</td>\n",
       "      <td>AL</td>\n",
       "      <td>MULTIPOLYGON (((-88.05338 30.50699, -88.05109 ...</td>\n",
       "    </tr>\n",
       "    <tr>\n",
       "      <th>1</th>\n",
       "      <td>Alaska</td>\n",
       "      <td>02</td>\n",
       "      <td>AK</td>\n",
       "      <td>MULTIPOLYGON (((-134.73726 58.26135, -134.7344...</td>\n",
       "    </tr>\n",
       "    <tr>\n",
       "      <th>2</th>\n",
       "      <td>Arizona</td>\n",
       "      <td>04</td>\n",
       "      <td>AZ</td>\n",
       "      <td>POLYGON ((-114.81629 32.50804, -114.81432 32.5...</td>\n",
       "    </tr>\n",
       "    <tr>\n",
       "      <th>3</th>\n",
       "      <td>Arkansas</td>\n",
       "      <td>05</td>\n",
       "      <td>AR</td>\n",
       "      <td>POLYGON ((-94.61783 36.49941, -94.61765 36.499...</td>\n",
       "    </tr>\n",
       "    <tr>\n",
       "      <th>4</th>\n",
       "      <td>California</td>\n",
       "      <td>06</td>\n",
       "      <td>CA</td>\n",
       "      <td>MULTIPOLYGON (((-118.60442 33.47855, -118.5987...</td>\n",
       "    </tr>\n",
       "  </tbody>\n",
       "</table>\n",
       "</div>"
      ],
      "text/plain": [
       "        STATE GEOID ABBREV                                           geometry\n",
       "0     Alabama    01     AL  MULTIPOLYGON (((-88.05338 30.50699, -88.05109 ...\n",
       "1      Alaska    02     AK  MULTIPOLYGON (((-134.73726 58.26135, -134.7344...\n",
       "2     Arizona    04     AZ  POLYGON ((-114.81629 32.50804, -114.81432 32.5...\n",
       "3    Arkansas    05     AR  POLYGON ((-94.61783 36.49941, -94.61765 36.499...\n",
       "4  California    06     CA  MULTIPOLYGON (((-118.60442 33.47855, -118.5987..."
      ]
     },
     "execution_count": 28,
     "metadata": {},
     "output_type": "execute_result"
    }
   ],
   "source": [
    "# Pull the state info for California\n",
    "state_boundaries.head()"
   ]
  },
  {
   "cell_type": "code",
   "execution_count": 29,
   "metadata": {},
   "outputs": [],
   "source": [
    "california = state_boundaries[state_boundaries[\"ABBREV\"] == \"CA\"]"
   ]
  },
  {
   "cell_type": "code",
   "execution_count": 30,
   "metadata": {},
   "outputs": [
    {
     "data": {
      "image/png": "[encoded data removed]",
      "text/plain": [
       "<Figure size 432x288 with 1 Axes>"
      ]
     },
     "metadata": {
      "needs_background": "light"
     },
     "output_type": "display_data"
    }
   ],
   "source": [
    "# Plot it\n",
    "california.plot(); "
   ]
  },
  {
   "cell_type": "markdown",
   "metadata": {},
   "source": [
    "Visi the [Census Bureau website](https://www.census.gov/data/datasets/time-series/demo/popest/2010s-counties-total.html)to get information about these counties. "
   ]
  },
  {
   "cell_type": "code",
   "execution_count": 32,
   "metadata": {},
   "outputs": [
    {
     "data": {
      "text/html": [
       "<div>\n",
       "<style scoped>\n",
       "    .dataframe tbody tr th:only-of-type {\n",
       "        vertical-align: middle;\n",
       "    }\n",
       "\n",
       "    .dataframe tbody tr th {\n",
       "        vertical-align: top;\n",
       "    }\n",
       "\n",
       "    .dataframe thead th {\n",
       "        text-align: right;\n",
       "    }\n",
       "</style>\n",
       "<table border=\"1\" class=\"dataframe\">\n",
       "  <thead>\n",
       "    <tr style=\"text-align: right;\">\n",
       "      <th></th>\n",
       "      <th>Id</th>\n",
       "      <th>Id2</th>\n",
       "      <th>Geography</th>\n",
       "      <th>Target Geo Id</th>\n",
       "      <th>Target Geo Id2</th>\n",
       "      <th>Geographic area</th>\n",
       "      <th>Geographic area.1</th>\n",
       "      <th>Population</th>\n",
       "      <th>Housing units</th>\n",
       "      <th>Area in square miles - Total area</th>\n",
       "      <th>Area in square miles - Water area</th>\n",
       "      <th>Area in square miles - Land area</th>\n",
       "      <th>Density per square mile of land area - Population</th>\n",
       "      <th>Density per square mile of land area - Housing units</th>\n",
       "    </tr>\n",
       "  </thead>\n",
       "  <tbody>\n",
       "    <tr>\n",
       "      <th>0</th>\n",
       "      <td>0400000US06</td>\n",
       "      <td>6</td>\n",
       "      <td>California</td>\n",
       "      <td>0500000US06001</td>\n",
       "      <td>6001</td>\n",
       "      <td>California - Alameda County</td>\n",
       "      <td>Alameda County</td>\n",
       "      <td>1510271</td>\n",
       "      <td>582549</td>\n",
       "      <td>821.33</td>\n",
       "      <td>82.31</td>\n",
       "      <td>739.02</td>\n",
       "      <td>2043.6</td>\n",
       "      <td>788.3</td>\n",
       "    </tr>\n",
       "    <tr>\n",
       "      <th>1</th>\n",
       "      <td>0400000US06</td>\n",
       "      <td>6</td>\n",
       "      <td>California</td>\n",
       "      <td>0500000US06003</td>\n",
       "      <td>6003</td>\n",
       "      <td>California - Alpine County</td>\n",
       "      <td>Alpine County</td>\n",
       "      <td>1175</td>\n",
       "      <td>1760</td>\n",
       "      <td>743.18</td>\n",
       "      <td>4.85</td>\n",
       "      <td>738.33</td>\n",
       "      <td>1.6</td>\n",
       "      <td>2.4</td>\n",
       "    </tr>\n",
       "    <tr>\n",
       "      <th>2</th>\n",
       "      <td>0400000US06</td>\n",
       "      <td>6</td>\n",
       "      <td>California</td>\n",
       "      <td>0500000US06005</td>\n",
       "      <td>6005</td>\n",
       "      <td>California - Amador County</td>\n",
       "      <td>Amador County</td>\n",
       "      <td>38091</td>\n",
       "      <td>18032</td>\n",
       "      <td>605.96</td>\n",
       "      <td>11.37</td>\n",
       "      <td>594.58</td>\n",
       "      <td>64.1</td>\n",
       "      <td>30.3</td>\n",
       "    </tr>\n",
       "    <tr>\n",
       "      <th>3</th>\n",
       "      <td>0400000US06</td>\n",
       "      <td>6</td>\n",
       "      <td>California</td>\n",
       "      <td>0500000US06007</td>\n",
       "      <td>6007</td>\n",
       "      <td>California - Butte County</td>\n",
       "      <td>Butte County</td>\n",
       "      <td>220000</td>\n",
       "      <td>95835</td>\n",
       "      <td>1677.13</td>\n",
       "      <td>40.67</td>\n",
       "      <td>1636.46</td>\n",
       "      <td>134.4</td>\n",
       "      <td>58.6</td>\n",
       "    </tr>\n",
       "    <tr>\n",
       "      <th>4</th>\n",
       "      <td>0400000US06</td>\n",
       "      <td>6</td>\n",
       "      <td>California</td>\n",
       "      <td>0500000US06009</td>\n",
       "      <td>6009</td>\n",
       "      <td>California - Calaveras County</td>\n",
       "      <td>Calaveras County</td>\n",
       "      <td>45578</td>\n",
       "      <td>27925</td>\n",
       "      <td>1036.93</td>\n",
       "      <td>16.92</td>\n",
       "      <td>1020.01</td>\n",
       "      <td>44.7</td>\n",
       "      <td>27.4</td>\n",
       "    </tr>\n",
       "  </tbody>\n",
       "</table>\n",
       "</div>"
      ],
      "text/plain": [
       "            Id  Id2   Geography   Target Geo Id  Target Geo Id2  \\\n",
       "0  0400000US06    6  California  0500000US06001            6001   \n",
       "1  0400000US06    6  California  0500000US06003            6003   \n",
       "2  0400000US06    6  California  0500000US06005            6005   \n",
       "3  0400000US06    6  California  0500000US06007            6007   \n",
       "4  0400000US06    6  California  0500000US06009            6009   \n",
       "\n",
       "                 Geographic area Geographic area.1  Population  Housing units  \\\n",
       "0    California - Alameda County    Alameda County     1510271         582549   \n",
       "1     California - Alpine County     Alpine County        1175           1760   \n",
       "2     California - Amador County     Amador County       38091          18032   \n",
       "3      California - Butte County      Butte County      220000          95835   \n",
       "4  California - Calaveras County  Calaveras County       45578          27925   \n",
       "\n",
       "   Area in square miles - Total area  Area in square miles - Water area  \\\n",
       "0                             821.33                              82.31   \n",
       "1                             743.18                               4.85   \n",
       "2                             605.96                              11.37   \n",
       "3                            1677.13                              40.67   \n",
       "4                            1036.93                              16.92   \n",
       "\n",
       "   Area in square miles - Land area  \\\n",
       "0                            739.02   \n",
       "1                            738.33   \n",
       "2                            594.58   \n",
       "3                           1636.46   \n",
       "4                           1020.01   \n",
       "\n",
       "   Density per square mile of land area - Population  \\\n",
       "0                                             2043.6   \n",
       "1                                                1.6   \n",
       "2                                               64.1   \n",
       "3                                              134.4   \n",
       "4                                               44.7   \n",
       "\n",
       "   Density per square mile of land area - Housing units  \n",
       "0                                              788.3     \n",
       "1                                                2.4     \n",
       "2                                               30.3     \n",
       "3                                               58.6     \n",
       "4                                               27.4     "
      ]
     },
     "execution_count": 32,
     "metadata": {},
     "output_type": "execute_result"
    }
   ],
   "source": [
    "pop = pd.read_csv(\"../../Data/Geo/DEC_10_SF1_GCTPH1.ST05_with_ann.csv\")\n",
    "pop.head()"
   ]
  },
  {
   "cell_type": "code",
   "execution_count": 33,
   "metadata": {},
   "outputs": [
    {
     "data": {
      "text/html": [
       "<div>\n",
       "<style scoped>\n",
       "    .dataframe tbody tr th:only-of-type {\n",
       "        vertical-align: middle;\n",
       "    }\n",
       "\n",
       "    .dataframe tbody tr th {\n",
       "        vertical-align: top;\n",
       "    }\n",
       "\n",
       "    .dataframe thead th {\n",
       "        text-align: right;\n",
       "    }\n",
       "</style>\n",
       "<table border=\"1\" class=\"dataframe\">\n",
       "  <thead>\n",
       "    <tr style=\"text-align: right;\">\n",
       "      <th></th>\n",
       "      <th>Id</th>\n",
       "      <th>Id2</th>\n",
       "      <th>Geography</th>\n",
       "      <th>Target Geo Id</th>\n",
       "      <th>Target Geo Id2</th>\n",
       "      <th>Geographic area</th>\n",
       "      <th>Geographic area.1</th>\n",
       "      <th>Population</th>\n",
       "      <th>Housing units</th>\n",
       "      <th>Area in square miles - Total area</th>\n",
       "      <th>Area in square miles - Water area</th>\n",
       "      <th>Area in square miles - Land area</th>\n",
       "      <th>Density per square mile of land area - Population</th>\n",
       "      <th>Density per square mile of land area - Housing units</th>\n",
       "      <th>GEOID</th>\n",
       "    </tr>\n",
       "  </thead>\n",
       "  <tbody>\n",
       "    <tr>\n",
       "      <th>0</th>\n",
       "      <td>0400000US06</td>\n",
       "      <td>6</td>\n",
       "      <td>California</td>\n",
       "      <td>0500000US06001</td>\n",
       "      <td>6001</td>\n",
       "      <td>California - Alameda County</td>\n",
       "      <td>Alameda County</td>\n",
       "      <td>1510271</td>\n",
       "      <td>582549</td>\n",
       "      <td>821.33</td>\n",
       "      <td>82.31</td>\n",
       "      <td>739.02</td>\n",
       "      <td>2043.6</td>\n",
       "      <td>788.3</td>\n",
       "      <td>06001</td>\n",
       "    </tr>\n",
       "    <tr>\n",
       "      <th>1</th>\n",
       "      <td>0400000US06</td>\n",
       "      <td>6</td>\n",
       "      <td>California</td>\n",
       "      <td>0500000US06003</td>\n",
       "      <td>6003</td>\n",
       "      <td>California - Alpine County</td>\n",
       "      <td>Alpine County</td>\n",
       "      <td>1175</td>\n",
       "      <td>1760</td>\n",
       "      <td>743.18</td>\n",
       "      <td>4.85</td>\n",
       "      <td>738.33</td>\n",
       "      <td>1.6</td>\n",
       "      <td>2.4</td>\n",
       "      <td>06003</td>\n",
       "    </tr>\n",
       "    <tr>\n",
       "      <th>2</th>\n",
       "      <td>0400000US06</td>\n",
       "      <td>6</td>\n",
       "      <td>California</td>\n",
       "      <td>0500000US06005</td>\n",
       "      <td>6005</td>\n",
       "      <td>California - Amador County</td>\n",
       "      <td>Amador County</td>\n",
       "      <td>38091</td>\n",
       "      <td>18032</td>\n",
       "      <td>605.96</td>\n",
       "      <td>11.37</td>\n",
       "      <td>594.58</td>\n",
       "      <td>64.1</td>\n",
       "      <td>30.3</td>\n",
       "      <td>06005</td>\n",
       "    </tr>\n",
       "    <tr>\n",
       "      <th>3</th>\n",
       "      <td>0400000US06</td>\n",
       "      <td>6</td>\n",
       "      <td>California</td>\n",
       "      <td>0500000US06007</td>\n",
       "      <td>6007</td>\n",
       "      <td>California - Butte County</td>\n",
       "      <td>Butte County</td>\n",
       "      <td>220000</td>\n",
       "      <td>95835</td>\n",
       "      <td>1677.13</td>\n",
       "      <td>40.67</td>\n",
       "      <td>1636.46</td>\n",
       "      <td>134.4</td>\n",
       "      <td>58.6</td>\n",
       "      <td>06007</td>\n",
       "    </tr>\n",
       "    <tr>\n",
       "      <th>4</th>\n",
       "      <td>0400000US06</td>\n",
       "      <td>6</td>\n",
       "      <td>California</td>\n",
       "      <td>0500000US06009</td>\n",
       "      <td>6009</td>\n",
       "      <td>California - Calaveras County</td>\n",
       "      <td>Calaveras County</td>\n",
       "      <td>45578</td>\n",
       "      <td>27925</td>\n",
       "      <td>1036.93</td>\n",
       "      <td>16.92</td>\n",
       "      <td>1020.01</td>\n",
       "      <td>44.7</td>\n",
       "      <td>27.4</td>\n",
       "      <td>06009</td>\n",
       "    </tr>\n",
       "  </tbody>\n",
       "</table>\n",
       "</div>"
      ],
      "text/plain": [
       "            Id  Id2   Geography   Target Geo Id  Target Geo Id2  \\\n",
       "0  0400000US06    6  California  0500000US06001            6001   \n",
       "1  0400000US06    6  California  0500000US06003            6003   \n",
       "2  0400000US06    6  California  0500000US06005            6005   \n",
       "3  0400000US06    6  California  0500000US06007            6007   \n",
       "4  0400000US06    6  California  0500000US06009            6009   \n",
       "\n",
       "                 Geographic area Geographic area.1  Population  Housing units  \\\n",
       "0    California - Alameda County    Alameda County     1510271         582549   \n",
       "1     California - Alpine County     Alpine County        1175           1760   \n",
       "2     California - Amador County     Amador County       38091          18032   \n",
       "3      California - Butte County      Butte County      220000          95835   \n",
       "4  California - Calaveras County  Calaveras County       45578          27925   \n",
       "\n",
       "   Area in square miles - Total area  Area in square miles - Water area  \\\n",
       "0                             821.33                              82.31   \n",
       "1                             743.18                               4.85   \n",
       "2                             605.96                              11.37   \n",
       "3                            1677.13                              40.67   \n",
       "4                            1036.93                              16.92   \n",
       "\n",
       "   Area in square miles - Land area  \\\n",
       "0                            739.02   \n",
       "1                            738.33   \n",
       "2                            594.58   \n",
       "3                           1636.46   \n",
       "4                           1020.01   \n",
       "\n",
       "   Density per square mile of land area - Population  \\\n",
       "0                                             2043.6   \n",
       "1                                                1.6   \n",
       "2                                               64.1   \n",
       "3                                              134.4   \n",
       "4                                               44.7   \n",
       "\n",
       "   Density per square mile of land area - Housing units  GEOID  \n",
       "0                                              788.3     06001  \n",
       "1                                                2.4     06003  \n",
       "2                                               30.3     06005  \n",
       "3                                               58.6     06007  \n",
       "4                                               27.4     06009  "
      ]
     },
     "execution_count": 33,
     "metadata": {},
     "output_type": "execute_result"
    }
   ],
   "source": [
    "# Add a zero to the new GEOID column\n",
    "pop[\"GEOID\"] = [\"0\" + str(x) for x in pop[\"Target Geo Id2\"]]\n",
    "pop.head()"
   ]
  },
  {
   "cell_type": "markdown",
   "metadata": {},
   "source": [
    "# Do the join!\n",
    "\n",
    "Now we can combine `cal_counties` and `pop` because they have the same number of rows. "
   ]
  },
  {
   "cell_type": "code",
   "execution_count": 34,
   "metadata": {},
   "outputs": [
    {
     "data": {
      "text/plain": [
       "(58, 15)"
      ]
     },
     "execution_count": 34,
     "metadata": {},
     "output_type": "execute_result"
    }
   ],
   "source": [
    "pop.shape"
   ]
  },
  {
   "cell_type": "code",
   "execution_count": 35,
   "metadata": {},
   "outputs": [
    {
     "data": {
      "text/plain": [
       "(58, 10)"
      ]
     },
     "execution_count": 35,
     "metadata": {},
     "output_type": "execute_result"
    }
   ],
   "source": [
    "cal_counties.shape"
   ]
  },
  {
   "cell_type": "code",
   "execution_count": 36,
   "metadata": {},
   "outputs": [
    {
     "data": {
      "text/html": [
       "<div>\n",
       "<style scoped>\n",
       "    .dataframe tbody tr th:only-of-type {\n",
       "        vertical-align: middle;\n",
       "    }\n",
       "\n",
       "    .dataframe tbody tr th {\n",
       "        vertical-align: top;\n",
       "    }\n",
       "\n",
       "    .dataframe thead th {\n",
       "        text-align: right;\n",
       "    }\n",
       "</style>\n",
       "<table border=\"1\" class=\"dataframe\">\n",
       "  <thead>\n",
       "    <tr style=\"text-align: right;\">\n",
       "      <th></th>\n",
       "      <th>STATEFP</th>\n",
       "      <th>COUNTYFP</th>\n",
       "      <th>COUNTYNS</th>\n",
       "      <th>AFFGEOID</th>\n",
       "      <th>GEOID</th>\n",
       "      <th>NAME</th>\n",
       "      <th>LSAD</th>\n",
       "      <th>ALAND</th>\n",
       "      <th>AWATER</th>\n",
       "      <th>geometry</th>\n",
       "      <th>...</th>\n",
       "      <th>Target Geo Id2</th>\n",
       "      <th>Geographic area</th>\n",
       "      <th>Geographic area.1</th>\n",
       "      <th>Population</th>\n",
       "      <th>Housing units</th>\n",
       "      <th>Area in square miles - Total area</th>\n",
       "      <th>Area in square miles - Water area</th>\n",
       "      <th>Area in square miles - Land area</th>\n",
       "      <th>Density per square mile of land area - Population</th>\n",
       "      <th>Density per square mile of land area - Housing units</th>\n",
       "    </tr>\n",
       "  </thead>\n",
       "  <tbody>\n",
       "    <tr>\n",
       "      <th>0</th>\n",
       "      <td>06</td>\n",
       "      <td>003</td>\n",
       "      <td>01675840</td>\n",
       "      <td>0500000US06003</td>\n",
       "      <td>06003</td>\n",
       "      <td>Alpine</td>\n",
       "      <td>06</td>\n",
       "      <td>1912292630</td>\n",
       "      <td>12557304</td>\n",
       "      <td>POLYGON ((-120.07248 38.50987, -120.07239 38.7...</td>\n",
       "      <td>...</td>\n",
       "      <td>6003</td>\n",
       "      <td>California - Alpine County</td>\n",
       "      <td>Alpine County</td>\n",
       "      <td>1175</td>\n",
       "      <td>1760</td>\n",
       "      <td>743.18</td>\n",
       "      <td>4.85</td>\n",
       "      <td>738.33</td>\n",
       "      <td>1.6</td>\n",
       "      <td>2.4</td>\n",
       "    </tr>\n",
       "    <tr>\n",
       "      <th>1</th>\n",
       "      <td>06</td>\n",
       "      <td>109</td>\n",
       "      <td>00277319</td>\n",
       "      <td>0500000US06109</td>\n",
       "      <td>06109</td>\n",
       "      <td>Tuolumne</td>\n",
       "      <td>06</td>\n",
       "      <td>5752079372</td>\n",
       "      <td>138722707</td>\n",
       "      <td>POLYGON ((-120.65255 37.83346, -120.64407 37.8...</td>\n",
       "      <td>...</td>\n",
       "      <td>6109</td>\n",
       "      <td>California - Tuolumne County</td>\n",
       "      <td>Tuolumne County</td>\n",
       "      <td>55365</td>\n",
       "      <td>31244</td>\n",
       "      <td>2274.43</td>\n",
       "      <td>53.55</td>\n",
       "      <td>2220.88</td>\n",
       "      <td>24.9</td>\n",
       "      <td>14.1</td>\n",
       "    </tr>\n",
       "    <tr>\n",
       "      <th>2</th>\n",
       "      <td>06</td>\n",
       "      <td>103</td>\n",
       "      <td>01692767</td>\n",
       "      <td>0500000US06103</td>\n",
       "      <td>06103</td>\n",
       "      <td>Tehama</td>\n",
       "      <td>06</td>\n",
       "      <td>7638228750</td>\n",
       "      <td>33767783</td>\n",
       "      <td>POLYGON ((-123.05927 40.28548, -123.04970 40.2...</td>\n",
       "      <td>...</td>\n",
       "      <td>6103</td>\n",
       "      <td>California - Tehama County</td>\n",
       "      <td>Tehama County</td>\n",
       "      <td>63463</td>\n",
       "      <td>26987</td>\n",
       "      <td>2962.17</td>\n",
       "      <td>12.46</td>\n",
       "      <td>2949.71</td>\n",
       "      <td>21.5</td>\n",
       "      <td>9.1</td>\n",
       "    </tr>\n",
       "    <tr>\n",
       "      <th>3</th>\n",
       "      <td>06</td>\n",
       "      <td>105</td>\n",
       "      <td>00277317</td>\n",
       "      <td>0500000US06105</td>\n",
       "      <td>06105</td>\n",
       "      <td>Trinity</td>\n",
       "      <td>06</td>\n",
       "      <td>8234265085</td>\n",
       "      <td>73407950</td>\n",
       "      <td>POLYGON ((-123.61749 40.93114, -123.60956 40.9...</td>\n",
       "      <td>...</td>\n",
       "      <td>6105</td>\n",
       "      <td>California - Trinity County</td>\n",
       "      <td>Trinity County</td>\n",
       "      <td>13786</td>\n",
       "      <td>8681</td>\n",
       "      <td>3207.60</td>\n",
       "      <td>28.34</td>\n",
       "      <td>3179.25</td>\n",
       "      <td>4.3</td>\n",
       "      <td>2.7</td>\n",
       "    </tr>\n",
       "    <tr>\n",
       "      <th>4</th>\n",
       "      <td>06</td>\n",
       "      <td>069</td>\n",
       "      <td>00277299</td>\n",
       "      <td>0500000US06069</td>\n",
       "      <td>06069</td>\n",
       "      <td>San Benito</td>\n",
       "      <td>06</td>\n",
       "      <td>3596590995</td>\n",
       "      <td>4719296</td>\n",
       "      <td>POLYGON ((-121.64400 36.89400, -121.62946 36.9...</td>\n",
       "      <td>...</td>\n",
       "      <td>6069</td>\n",
       "      <td>California - San Benito County</td>\n",
       "      <td>San Benito County</td>\n",
       "      <td>55269</td>\n",
       "      <td>17870</td>\n",
       "      <td>1390.47</td>\n",
       "      <td>1.76</td>\n",
       "      <td>1388.71</td>\n",
       "      <td>39.8</td>\n",
       "      <td>12.9</td>\n",
       "    </tr>\n",
       "  </tbody>\n",
       "</table>\n",
       "<p>5 rows × 24 columns</p>\n",
       "</div>"
      ],
      "text/plain": [
       "  STATEFP COUNTYFP  COUNTYNS        AFFGEOID  GEOID        NAME LSAD  \\\n",
       "0      06      003  01675840  0500000US06003  06003      Alpine   06   \n",
       "1      06      109  00277319  0500000US06109  06109    Tuolumne   06   \n",
       "2      06      103  01692767  0500000US06103  06103      Tehama   06   \n",
       "3      06      105  00277317  0500000US06105  06105     Trinity   06   \n",
       "4      06      069  00277299  0500000US06069  06069  San Benito   06   \n",
       "\n",
       "        ALAND     AWATER                                           geometry  \\\n",
       "0  1912292630   12557304  POLYGON ((-120.07248 38.50987, -120.07239 38.7...   \n",
       "1  5752079372  138722707  POLYGON ((-120.65255 37.83346, -120.64407 37.8...   \n",
       "2  7638228750   33767783  POLYGON ((-123.05927 40.28548, -123.04970 40.2...   \n",
       "3  8234265085   73407950  POLYGON ((-123.61749 40.93114, -123.60956 40.9...   \n",
       "4  3596590995    4719296  POLYGON ((-121.64400 36.89400, -121.62946 36.9...   \n",
       "\n",
       "   ... Target Geo Id2                 Geographic area  Geographic area.1  \\\n",
       "0  ...           6003      California - Alpine County      Alpine County   \n",
       "1  ...           6109    California - Tuolumne County    Tuolumne County   \n",
       "2  ...           6103      California - Tehama County      Tehama County   \n",
       "3  ...           6105     California - Trinity County     Trinity County   \n",
       "4  ...           6069  California - San Benito County  San Benito County   \n",
       "\n",
       "  Population  Housing units Area in square miles - Total area  \\\n",
       "0       1175           1760                            743.18   \n",
       "1      55365          31244                           2274.43   \n",
       "2      63463          26987                           2962.17   \n",
       "3      13786           8681                           3207.60   \n",
       "4      55269          17870                           1390.47   \n",
       "\n",
       "  Area in square miles - Water area  Area in square miles - Land area  \\\n",
       "0                              4.85                            738.33   \n",
       "1                             53.55                           2220.88   \n",
       "2                             12.46                           2949.71   \n",
       "3                             28.34                           3179.25   \n",
       "4                              1.76                           1388.71   \n",
       "\n",
       "   Density per square mile of land area - Population  \\\n",
       "0                                                1.6   \n",
       "1                                               24.9   \n",
       "2                                               21.5   \n",
       "3                                                4.3   \n",
       "4                                               39.8   \n",
       "\n",
       "   Density per square mile of land area - Housing units  \n",
       "0                                                2.4     \n",
       "1                                               14.1     \n",
       "2                                                9.1     \n",
       "3                                                2.7     \n",
       "4                                               12.9     \n",
       "\n",
       "[5 rows x 24 columns]"
      ]
     },
     "execution_count": 36,
     "metadata": {},
     "output_type": "execute_result"
    }
   ],
   "source": [
    "# cal_counties\n",
    "# pop\n",
    "geo_pop = cal_counties.merge(pop, on = \"GEOID\", how = \"left\")\n",
    "geo_pop.head()"
   ]
  },
  {
   "cell_type": "markdown",
   "metadata": {},
   "source": [
    "# Plot"
   ]
  },
  {
   "cell_type": "code",
   "execution_count": 39,
   "metadata": {},
   "outputs": [
    {
     "data": {
      "image/png": "[encoded data removed]",
      "text/plain": [
       "<Figure size 576x576 with 1 Axes>"
      ]
     },
     "metadata": {
      "needs_background": "light"
     },
     "output_type": "display_data"
    }
   ],
   "source": [
    "geo_pop.plot(\n",
    "    # Which column to visualize?\n",
    "    column = \"Population\", \n",
    "    \n",
    "    # Which color palette to use?\n",
    "    cmap = \"Reds\", \n",
    "    \n",
    "    # What color should be used to separate the counties?\n",
    "    edgecolor = \"black\", \n",
    "    \n",
    "    # Width of the county boudary lines\n",
    "    linewidth = 0.1, \n",
    "    \n",
    "    # Change figure size\n",
    "    figsize = (8, 8),\n",
    "    \n",
    "    # Add legend\n",
    "    legend = True,\n",
    "    \n",
    "    # What do the different classifier schemes do? \n",
    "    scheme = \"quantiles\");"
   ]
  },
  {
   "cell_type": "markdown",
   "metadata": {},
   "source": [
    "Visit the [this page](https://pysal.org/mapclassify/_modules/mapclassify/classifiers.html) and pass in different schemes. How does `scheme = \"Equal_Interval\"` differ from \"quantiles\"? \n",
    "\n",
    "> HINT: This is how people [lie with maps](https://www.amazon.com/How-Lie-Maps-Mark-Monmonier/dp/0226534219)!\n",
    "\n",
    "[Learn more here](https://github.com/pysal/mapclassify)."
   ]
  },
  {
   "cell_type": "code",
   "execution_count": 40,
   "metadata": {
    "scrolled": true
   },
   "outputs": [
    {
     "data": {
      "image/png": "[encoded data removed]",
      "text/plain": [
       "<Figure size 576x576 with 1 Axes>"
      ]
     },
     "metadata": {
      "needs_background": "light"
     },
     "output_type": "display_data"
    }
   ],
   "source": [
    "geo_pop.plot(column = \"Population\", \n",
    "             cmap = \"Greens\", \n",
    "             edgecolor = \"black\", \n",
    "             linewidth = 0.1, \n",
    "             scheme = \"Equal_Interval\", \n",
    "             legend = True, \n",
    "             figsize = (8,8));"
   ]
  },
  {
   "cell_type": "markdown",
   "metadata": {},
   "source": [
    "# Going further\n",
    "\n",
    "See if you can get the Geospatial Fundamentals in Python workshop materials to work!\n",
    "\n",
    "https://github.com/dlab-berkeley/Geospatial-Fundamentals-in-Python"
   ]
  }
 ],
 "metadata": {
  "kernelspec": {
   "display_name": "Python 3",
   "language": "python",
   "name": "python3"
  },
  "language_info": {
   "codemirror_mode": {
    "name": "ipython",
    "version": 3
   },
   "file_extension": ".py",
   "mimetype": "text/x-python",
   "name": "python",
   "nbconvert_exporter": "python",
   "pygments_lexer": "ipython3",
   "version": "3.7.6"
  }
 },
 "nbformat": 4,
 "nbformat_minor": 2
}
